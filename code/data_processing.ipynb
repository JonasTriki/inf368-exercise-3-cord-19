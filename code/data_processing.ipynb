{
 "cells": [
  {
   "cell_type": "code",
   "execution_count": 1,
   "metadata": {},
   "outputs": [
    {
     "name": "stderr",
     "output_type": "stream",
     "text": [
      "/home/jonavin/anaconda3/lib/python3.7/site-packages/tqdm/std.py:648: FutureWarning: The Panel class is removed from pandas. Accessing it from the top-level namespace will also be removed in the next version\n",
      "  from pandas import Panel\n"
     ]
    }
   ],
   "source": [
    "# Imports\n",
    "import os\n",
    "import json\n",
    "from os.path import join as join_path\n",
    "import numpy as np\n",
    "rng_seed = 368\n",
    "np.random.seed(rng_seed) # Random seed for reproducibility\n",
    "import pandas as pd\n",
    "\n",
    "# Custom modules\n",
    "from utils import tokenize_texts, save_result, set_kaggle_env_keys\n",
    "from cord_utils import CORD19Data\n",
    "\n",
    "set_kaggle_env_keys() # Set Kaggle environment keys (KAGGLE_USERNAME, KAGGLE_KEY) before importing the API.\n",
    "from kaggle.api.kaggle_api_extended import KaggleApi"
   ]
  },
  {
   "cell_type": "code",
   "execution_count": 2,
   "metadata": {},
   "outputs": [],
   "source": [
    "# Define constants\n",
    "kaggle_dataset = 'allen-institute-for-ai/CORD-19-research-challenge'\n",
    "data_dir = 'data'\n",
    "cord_data_raw_dir = join_path(data_dir, 'raw')\n",
    "cord_data_out_path = join_path(data_dir, 'cord-19-data.csv')\n",
    "cord_data_tokenized_path = join_path(data_dir, 'cord_19_texts_10000_tokenized_en.p')\n",
    "cord_max_vocab_size = 10000"
   ]
  },
  {
   "cell_type": "code",
   "execution_count": 3,
   "metadata": {
    "scrolled": true
   },
   "outputs": [],
   "source": [
    "# Uncomment to download and unzip raw CORD-19 dataset from Kaggle\n",
    "# api = KaggleApi()\n",
    "# api.authenticate()\n",
    "# api.dataset_download_files(kaggle_dataset, path=cord_data_raw_dir, quiet=False, unzip=True)"
   ]
  },
  {
   "cell_type": "code",
   "execution_count": 4,
   "metadata": {},
   "outputs": [
    {
     "name": "stdout",
     "output_type": "stream",
     "text": [
      "Loading metadata...\n",
      "Done!\n",
      "Cleaning metadata...\n",
      "Done!\n",
      "Parsing metadata...\n"
     ]
    },
    {
     "name": "stderr",
     "output_type": "stream",
     "text": [
      "/home/jonavin/anaconda3/lib/python3.7/site-packages/IPython/core/interactiveshell.py:3326: DtypeWarning: Columns (13) have mixed types. Specify dtype option on import or set low_memory=False.\n",
      "  exec(code_obj, self.user_global_ns, self.user_ns)\n"
     ]
    },
    {
     "data": {
      "application/vnd.jupyter.widget-view+json": {
       "model_id": "6925ce3bf5114e6bb00691577f0b8296",
       "version_major": 2,
       "version_minor": 0
      },
      "text/plain": [
       "HBox(children=(IntProgress(value=0, max=38468), HTML(value='')))"
      ]
     },
     "metadata": {},
     "output_type": "display_data"
    },
    {
     "name": "stdout",
     "output_type": "stream",
     "text": [
      "\n",
      "Done!\n",
      "Removing duplicates...\n",
      "Done!\n",
      "Performing language detection...\n"
     ]
    },
    {
     "data": {
      "application/vnd.jupyter.widget-view+json": {
       "model_id": "d042312382944d828f03e8fb2ec21e71",
       "version_major": 2,
       "version_minor": 0
      },
      "text/plain": [
       "HBox(children=(IntProgress(value=0, max=33554), HTML(value='')))"
      ]
     },
     "metadata": {},
     "output_type": "display_data"
    },
    {
     "name": "stdout",
     "output_type": "stream",
     "text": [
      "\n",
      "Done!\n"
     ]
    }
   ],
   "source": [
    "# Uncomment lines below to process CORD-19 data\n",
    "# and save the resulting DataFrame to file\n",
    "cord_df = CORD19Data(cord_data_raw_dir).process_data()\n",
    "cord_df.to_csv(cord_data_out_path, index=False)"
   ]
  },
  {
   "cell_type": "code",
   "execution_count": 4,
   "metadata": {},
   "outputs": [],
   "source": [
    "# Load processed data\n",
    "# cord_df = pd.read_csv(cord_data_out_path)"
   ]
  },
  {
   "cell_type": "code",
   "execution_count": 5,
   "metadata": {},
   "outputs": [],
   "source": [
    "# Extract english papers only for now\n",
    "cord_df_eng = cord_df[cord_df['language'] == 'en']\n",
    "cord_eng_texts = cord_df_eng['body_text'].values"
   ]
  },
  {
   "cell_type": "code",
   "execution_count": 6,
   "metadata": {},
   "outputs": [
    {
     "name": "stdout",
     "output_type": "stream",
     "text": [
      "Tokenizing texts...\n"
     ]
    },
    {
     "data": {
      "application/vnd.jupyter.widget-view+json": {
       "model_id": "c15fcbc3bfec4357a6280ac2f46dd64f",
       "version_major": 2,
       "version_minor": 0
      },
      "text/plain": [
       "HBox(children=(IntProgress(value=0, max=29470), HTML(value='')))"
      ]
     },
     "metadata": {},
     "output_type": "display_data"
    },
    {
     "name": "stdout",
     "output_type": "stream",
     "text": [
      "\n",
      "Creating data matrix...\n"
     ]
    },
    {
     "data": {
      "application/vnd.jupyter.widget-view+json": {
       "model_id": "3ad3ca19c1d84f35b543818b6a146168",
       "version_major": 2,
       "version_minor": 0
      },
      "text/plain": [
       "HBox(children=(IntProgress(value=0, max=29470), HTML(value='')))"
      ]
     },
     "metadata": {},
     "output_type": "display_data"
    },
    {
     "name": "stdout",
     "output_type": "stream",
     "text": [
      "\n"
     ]
    }
   ],
   "source": [
    "# Tokenize the english texts and save to file\n",
    "cord_data_tokenized = tokenize_texts(cord_eng_texts, cord_max_vocab_size)\n",
    "save_result(cord_data_tokenized, cord_data_tokenized_path)"
   ]
  }
 ],
 "metadata": {
  "kernelspec": {
   "display_name": "Python 3",
   "language": "python",
   "name": "python3"
  },
  "language_info": {
   "codemirror_mode": {
    "name": "ipython",
    "version": 3
   },
   "file_extension": ".py",
   "mimetype": "text/x-python",
   "name": "python",
   "nbconvert_exporter": "python",
   "pygments_lexer": "ipython3",
   "version": "3.7.4"
  }
 },
 "nbformat": 4,
 "nbformat_minor": 2
}
