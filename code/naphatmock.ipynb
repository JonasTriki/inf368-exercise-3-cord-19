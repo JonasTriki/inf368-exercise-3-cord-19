{
 "cells": [
  {
   "cell_type": "code",
   "execution_count": 14,
   "metadata": {},
   "outputs": [],
   "source": [
    "import shelve"
   ]
  },
  {
   "cell_type": "code",
   "execution_count": 15,
   "metadata": {},
   "outputs": [],
   "source": [
    "class Fuck:\n",
    "    def __init__(self, x):\n",
    "        self.x = x \n",
    "        self.giggolo = 'man hooker'\n",
    "\n",
    "dicky = dict(a=Fuck(1), b=Fuck(2), c=Fuck(3), d=Fuck(4), e=Fuck(5))\n",
    "\n",
    "with shelve.open('coordle/shelve/test_db', 'c') as db:\n",
    "    for key, val in dicky.items():\n",
    "        db[key] = val"
   ]
  },
  {
   "cell_type": "code",
   "execution_count": 16,
   "metadata": {},
   "outputs": [
    {
     "name": "stdout",
     "output_type": "stream",
     "text": [
      "<__main__.Fuck object at 0x7f91302e8fd0>\n"
     ]
    }
   ],
   "source": [
    "with shelve.open('coordle/shelve/test_db', 'c') as db:\n",
    "    print(db['a'])"
   ]
  }
 ],
 "metadata": {
  "kernelspec": {
   "display_name": "Python 3",
   "language": "python",
   "name": "python3"
  },
  "language_info": {
   "codemirror_mode": {
    "name": "ipython",
    "version": 3
   },
   "file_extension": ".py",
   "mimetype": "text/x-python",
   "name": "python",
   "nbconvert_exporter": "python",
   "pygments_lexer": "ipython3",
   "version": "3.7.4"
  }
 },
 "nbformat": 4,
 "nbformat_minor": 2
}
