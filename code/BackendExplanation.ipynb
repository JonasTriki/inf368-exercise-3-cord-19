{
 "cells": [
  {
   "cell_type": "markdown",
   "metadata": {},
   "source": [
    "# Creating a search engine using Word2Vec and TD-IDF\n",
    "\n",
    "## Motivation and concept\n",
    "We want to obtain answers to the problems by creating our own search engine for the dataset. Naturally, we want the search to be fast and give relevant results when given a query. To achieve the desired searching speeds we pre-compute an index for the data. The index is a [hash table](https://en.wikipedia.org/wiki/Hash_table) that maps query tokens (e.g. words) to [sets](https://en.wikipedia.org/wiki/Set_(mathematics)) of documents that contains the tokens. Then to score the relevance of the query result, we calculate the [TF-IDF](http://www.tfidf.com/) weights for each document. \n",
    "\n",
    "For example, \n",
    "\n",
    "However, sometimes we would to get more refiner queres "
   ]
  }
 ],
 "metadata": {
  "kernelspec": {
   "display_name": "Python 3",
   "language": "python",
   "name": "python3"
  },
  "language_info": {
   "codemirror_mode": {
    "name": "ipython",
    "version": 3
   },
   "file_extension": ".py",
   "mimetype": "text/x-python",
   "name": "python",
   "nbconvert_exporter": "python",
   "pygments_lexer": "ipython3",
   "version": "3.7.4"
  }
 },
 "nbformat": 4,
 "nbformat_minor": 2
}
