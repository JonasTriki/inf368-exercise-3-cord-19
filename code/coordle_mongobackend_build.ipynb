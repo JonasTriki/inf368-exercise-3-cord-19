{
 "cells": [
  {
   "cell_type": "code",
   "execution_count": 4,
   "metadata": {},
   "outputs": [],
   "source": [
    "import json\n",
    "import pandas as pd\n",
    "from flask import Flask, request, url_for, redirect, render_template, jsonify\n",
    "from gensim.models import Word2Vec\n",
    "from utils import fix_authors\n",
    "from coordle_mongobackend import AI_Index\n",
    "import logging"
   ]
  },
  {
   "cell_type": "code",
   "execution_count": 8,
   "metadata": {},
   "outputs": [
    {
     "name": "stderr",
     "output_type": "stream",
     "text": [
      "Initialized database index with size 0\n"
     ]
    }
   ],
   "source": [
    "# Load Word2Vec model and init AI_Index\n",
    "w2v_model = Word2Vec.load('data/cord-19-w2v.model')\n",
    "cord_df = pd.read_csv('data/cord-19-data.csv')\n",
    "ai_index = AI_Index('coordle', w2v_model.wv.most_similar, n_similars=1)"
   ]
  },
  {
   "cell_type": "code",
   "execution_count": 9,
   "metadata": {},
   "outputs": [],
   "source": [
    "# Purge old database entries\n",
    "AI_Index.drop_old_collections(ai_index)"
   ]
  },
  {
   "cell_type": "code",
   "execution_count": 10,
   "metadata": {},
   "outputs": [
    {
     "name": "stdout",
     "output_type": "stream",
     "text": [
      "Text cleaning initilized on 4 workers\n"
     ]
    },
    {
     "name": "stderr",
     "output_type": "stream",
     "text": [
      "Cleaning texts: 100%|██████████| 36565/36565 [05:16<00:00, 115.52it/s]\n",
      "Building word to uids map: 100%|██████████| 36565/36565 [02:17<00:00, 266.32it/s]\n",
      "Inserting wordmap to database: 100%|█████████▉| 1635009/1635896 [00:26<00:00, 61027.80it/s] \n"
     ]
    }
   ],
   "source": [
    "# Build index\n",
    "ai_index.build_from_df(\n",
    "    df=cord_df,\n",
    "    uid='cord_uid',\n",
    "    title='title',\n",
    "    text='body_text', \n",
    "    verbose=True, \n",
    "    use_multiprocessing=True,\n",
    "    workers=-1\n",
    ")"
   ]
  }
 ],
 "metadata": {
  "kernelspec": {
   "display_name": "Python 3",
   "language": "python",
   "name": "python3"
  },
  "language_info": {
   "codemirror_mode": {
    "name": "ipython",
    "version": 3
   },
   "file_extension": ".py",
   "mimetype": "text/x-python",
   "name": "python",
   "nbconvert_exporter": "python",
   "pygments_lexer": "ipython3",
   "version": "3.6.9"
  }
 },
 "nbformat": 4,
 "nbformat_minor": 4
}
