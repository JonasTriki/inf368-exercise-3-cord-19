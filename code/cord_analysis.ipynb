{
 "cells": [
  {
   "cell_type": "code",
   "execution_count": 36,
   "metadata": {},
   "outputs": [],
   "source": [
    "# Imports\n",
    "from os.path import join as join_path\n",
    "import numpy as np\n",
    "rng_seed = 368\n",
    "np.random.seed(rng_seed)\n",
    "import pandas as pd\n",
    "from tqdm.notebook import tqdm\n",
    "\n",
    "import tensorflow as tf\n",
    "tf.random.set_seed(rng_seed)\n",
    "from tensorflow.keras import Model\n",
    "from tensorflow.keras.layers import Input, Dense, Reshape, dot, Embedding\n",
    "from tensorflow.keras.callbacks import ModelCheckpoint\n",
    "from sklearn.model_selection import train_test_split\n",
    "from sklearn.metrics import roc_auc_score\n",
    "\n",
    "from matplotlib import pyplot as plt\n",
    "\n",
    "# Custom files\n",
    "from importlib import reload\n",
    "import utils\n",
    "reload(utils)\n",
    "\n",
    "import tensorflow_setup\n",
    "from utils import load_result, TokenizedSkipgramDataGenerator"
   ]
  },
  {
   "cell_type": "code",
   "execution_count": 2,
   "metadata": {},
   "outputs": [
    {
     "name": "stdout",
     "output_type": "stream",
     "text": [
      "Enabled dynamic gpu memory\n",
      "Ran tensorflow_shutup\n"
     ]
    }
   ],
   "source": [
    "tensorflow_setup.init(shutup=True)"
   ]
  },
  {
   "cell_type": "markdown",
   "metadata": {},
   "source": [
    "## Load and prepare dataset"
   ]
  },
  {
   "cell_type": "code",
   "execution_count": 3,
   "metadata": {},
   "outputs": [],
   "source": [
    "# Load tokenized english texts (vocab size=10000)\n",
    "vocab_size = 10000\n",
    "sampling_window_size = 10\n",
    "negative_samples = 5\n",
    "cord_data_tokenized_path = join_path('data', f'cord_19_texts_{vocab_size}_tokenized_en.p')\n",
    "cord_data, cord_word_to_idx, cord_idx_to_word = load_result(cord_data_tokenized_path)"
   ]
  },
  {
   "cell_type": "code",
   "execution_count": 4,
   "metadata": {},
   "outputs": [],
   "source": [
    "# Split data into train/val/test\n",
    "cord_data_train, cord_data_val = train_test_split(cord_data, test_size=0.02, random_state=rng_seed)\n",
    "cord_data_val, cord_data_test = train_test_split(cord_data_val, test_size=0.5, random_state=rng_seed)"
   ]
  },
  {
   "cell_type": "code",
   "execution_count": null,
   "metadata": {},
   "outputs": [],
   "source": [
    "print(f'Train size: {len(cord_data_train)}')\n",
    "print(f'Validation size: {len(cord_data_val)}')\n",
    "print(f'Test size: {len(cord_data_test)}')"
   ]
  },
  {
   "cell_type": "code",
   "execution_count": 50,
   "metadata": {},
   "outputs": [],
   "source": [
    "# Setup data generator\n",
    "train_data_gen = TokenizedSkipgramDataGenerator(\n",
    "    cord_data_train,\n",
    "    vocab_size,\n",
    "    sampling_window_size,\n",
    "    negative_samples,\n",
    "    corpus_batch_size=10,\n",
    "    pairs_batch_size=1024\n",
    ")\n",
    "val_data_gen = TokenizedSkipgramDataGenerator(\n",
    "    cord_data_val,\n",
    "    vocab_size,\n",
    "    sampling_window_size,\n",
    "    negative_samples,\n",
    "    corpus_batch_size=10,\n",
    "    pairs_batch_size=1024\n",
    ")"
   ]
  },
  {
   "cell_type": "markdown",
   "metadata": {},
   "source": [
    "## Create word2vec model and train it"
   ]
  },
  {
   "cell_type": "code",
   "execution_count": 51,
   "metadata": {},
   "outputs": [],
   "source": [
    "# Create word2vec model using Keras\n",
    "def build_word2vec_model(vocab_size: int, vector_dim: int):\n",
    "    '''Build word2vec model using Keras/Tensorflow\n",
    "    \n",
    "    Args:\n",
    "        vocab_size: Size of the vocabulary\n",
    "        vector_dim: Dimension of the embedding weight matrix (300 is typically used)\n",
    "    \n",
    "    returns:\n",
    "        model: Word2vec model\n",
    "    '''\n",
    "    # Input to network\n",
    "    input_target = Input((1,), name='input_target')\n",
    "    input_context = Input((1,), name='input_context')\n",
    "\n",
    "    # Embedding layer\n",
    "    embedding = Embedding(vocab_size + 1, vector_dim, input_length=1, name='embedding')\n",
    "    target = embedding(input_target)\n",
    "    target = Reshape((vector_dim, 1), name='target_word_vector')(target)\n",
    "    context = embedding(input_context)\n",
    "    context = Reshape((vector_dim, 1), name='context_word_vector')(context)\n",
    "    \n",
    "    # Compute similarity (dot product)\n",
    "    dot_product = dot([target, context], axes=1, normalize=False, name='dot_product')\n",
    "    dot_product = Reshape((1,), name='dot_product_reshape')(dot_product)\n",
    "    \n",
    "    # Sigmoid activation (output)\n",
    "    output = Dense(1, activation='sigmoid', name='sigmoid_activation')(dot_product)\n",
    "    \n",
    "    # Create model\n",
    "    model = Model(inputs=[input_target, input_context], outputs=output)\n",
    "    model.compile(loss='binary_crossentropy', optimizer='adam', metrics=['accuracy'])\n",
    "    \n",
    "    return model"
   ]
  },
  {
   "cell_type": "code",
   "execution_count": 52,
   "metadata": {},
   "outputs": [
    {
     "name": "stdout",
     "output_type": "stream",
     "text": [
      "Model: \"model_2\"\n",
      "__________________________________________________________________________________________________\n",
      "Layer (type)                    Output Shape         Param #     Connected to                     \n",
      "==================================================================================================\n",
      "input_target (InputLayer)       [(None, 1)]          0                                            \n",
      "__________________________________________________________________________________________________\n",
      "input_context (InputLayer)      [(None, 1)]          0                                            \n",
      "__________________________________________________________________________________________________\n",
      "embedding (Embedding)           (None, 1, 300)       3000300     input_target[0][0]               \n",
      "                                                                 input_context[0][0]              \n",
      "__________________________________________________________________________________________________\n",
      "target_word_vector (Reshape)    (None, 300, 1)       0           embedding[0][0]                  \n",
      "__________________________________________________________________________________________________\n",
      "context_word_vector (Reshape)   (None, 300, 1)       0           embedding[1][0]                  \n",
      "__________________________________________________________________________________________________\n",
      "dot_product (Dot)               (None, 1, 1)         0           target_word_vector[0][0]         \n",
      "                                                                 context_word_vector[0][0]        \n",
      "__________________________________________________________________________________________________\n",
      "dot_product_reshape (Reshape)   (None, 1)            0           dot_product[0][0]                \n",
      "__________________________________________________________________________________________________\n",
      "sigmoid_activation (Dense)      (None, 1)            2           dot_product_reshape[0][0]        \n",
      "==================================================================================================\n",
      "Total params: 3,000,302\n",
      "Trainable params: 3,000,302\n",
      "Non-trainable params: 0\n",
      "__________________________________________________________________________________________________\n"
     ]
    }
   ],
   "source": [
    "word_embedding_dim = 300\n",
    "model = build_word2vec_model(vocab_size, word_embedding_dim)\n",
    "model.summary()"
   ]
  },
  {
   "cell_type": "code",
   "execution_count": 53,
   "metadata": {},
   "outputs": [
    {
     "name": "stdout",
     "output_type": "stream",
     "text": [
      "Train for 7852 steps, validate for 4583 steps\n",
      "Epoch 1/10\n",
      "7852/7852 [==============================] - 112s 14ms/step - loss: 0.2582 - accuracy: 0.8965 - val_loss: 1.6792 - val_accuracy: 0.8154\n",
      "Epoch 2/10\n",
      "7852/7852 [==============================] - 110s 14ms/step - loss: 0.1776 - accuracy: 0.9209 - val_loss: 2.3972 - val_accuracy: 0.8135\n",
      "Epoch 3/10\n",
      "7852/7852 [==============================] - 110s 14ms/step - loss: 0.1614 - accuracy: 0.9282 - val_loss: 2.4628 - val_accuracy: 0.8126\n",
      "Epoch 4/10\n",
      "7852/7852 [==============================] - 110s 14ms/step - loss: 0.1551 - accuracy: 0.9308 - val_loss: 2.3840 - val_accuracy: 0.8119\n",
      "Epoch 5/10\n",
      "7852/7852 [==============================] - 109s 14ms/step - loss: 0.1515 - accuracy: 0.9319 - val_loss: 2.2552 - val_accuracy: 0.8118\n",
      "Epoch 6/10\n",
      "7852/7852 [==============================] - 111s 14ms/step - loss: 0.1491 - accuracy: 0.9326 - val_loss: 2.1549 - val_accuracy: 0.8115\n",
      "Epoch 7/10\n",
      "7852/7852 [==============================] - 109s 14ms/step - loss: 0.1473 - accuracy: 0.9332 - val_loss: 2.0471 - val_accuracy: 0.8116\n",
      "Epoch 8/10\n",
      "7852/7852 [==============================] - 109s 14ms/step - loss: 0.1459 - accuracy: 0.9336 - val_loss: 1.9648 - val_accuracy: 0.8115\n",
      "Epoch 9/10\n",
      "7852/7852 [==============================] - 111s 14ms/step - loss: 0.1447 - accuracy: 0.9339 - val_loss: 1.8885 - val_accuracy: 0.8114\n",
      "Epoch 10/10\n",
      "7852/7852 [==============================] - 110s 14ms/step - loss: 0.1437 - accuracy: 0.9341 - val_loss: 1.8126 - val_accuracy: 0.8113\n"
     ]
    },
    {
     "data": {
      "text/plain": [
       "<tensorflow.python.keras.callbacks.History at 0x7f0968313110>"
      ]
     },
     "execution_count": 53,
     "metadata": {},
     "output_type": "execute_result"
    }
   ],
   "source": [
    "# Train model\n",
    "model.fit(\n",
    "    train_data_gen,\n",
    "    validation_data=val_data_gen,\n",
    "    epochs=10,\n",
    "    verbose=1\n",
    ")"
   ]
  },
  {
   "cell_type": "code",
   "execution_count": 54,
   "metadata": {},
   "outputs": [],
   "source": [
    "test_data_gen = TokenizedSkipgramDataGenerator(\n",
    "    cord_data_test,\n",
    "    vocab_size,\n",
    "    sampling_window_size,\n",
    "    negative_samples,\n",
    "    corpus_batch_size=10,\n",
    "    pairs_batch_size=1024\n",
    ")"
   ]
  },
  {
   "cell_type": "code",
   "execution_count": 56,
   "metadata": {},
   "outputs": [
    {
     "name": "stdout",
     "output_type": "stream",
     "text": [
      "Test AUC: 0.49986399278383753\n"
     ]
    }
   ],
   "source": [
    "y_pred = model.predict(test_data_gen)\n",
    "y_true = test_data_gen.skipgram_labels\n",
    "print(f'Test AUC: {roc_auc_score(y_true[:len(y_pred)], y_pred)}')"
   ]
  }
 ],
 "metadata": {
  "kernelspec": {
   "display_name": "Python 3",
   "language": "python",
   "name": "python3"
  },
  "language_info": {
   "codemirror_mode": {
    "name": "ipython",
    "version": 3
   },
   "file_extension": ".py",
   "mimetype": "text/x-python",
   "name": "python",
   "nbconvert_exporter": "python",
   "pygments_lexer": "ipython3",
   "version": "3.7.4"
  }
 },
 "nbformat": 4,
 "nbformat_minor": 2
}
