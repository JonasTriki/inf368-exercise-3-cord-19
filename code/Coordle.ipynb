{
 "cells": [
  {
   "cell_type": "markdown",
   "metadata": {},
   "source": [
    "# Coordle Backend"
   ]
  },
  {
   "cell_type": "code",
   "execution_count": 1,
   "metadata": {},
   "outputs": [
    {
     "name": "stderr",
     "output_type": "stream",
     "text": [
      "[nltk_data] Downloading package wordnet to /root/nltk_data...\n",
      "[nltk_data]   Package wordnet is already up-to-date!\n",
      "[nltk_data] Downloading package stopwords to /root/nltk_data...\n",
      "[nltk_data]   Package stopwords is already up-to-date!\n",
      "/home/jonavin/anaconda3/lib/python3.7/site-packages/tqdm/std.py:648: FutureWarning: The Panel class is removed from pandas. Accessing it from the top-level namespace will also be removed in the next version\n",
      "  from pandas import Panel\n"
     ]
    }
   ],
   "source": [
    "import pandas as pd \n",
    "import numpy as np\n",
    "from importlib import reload\n",
    "import nltk\n",
    "import spacy\n",
    "from coordle.utils import clean_text\n",
    "from nltk.corpus import stopwords as _stopwords\n",
    "from tqdm import tqdm\n",
    "from collections import deque\n",
    "from copy import deepcopy\n",
    "from collections.abc import Iterable\n",
    "from typing import Union\n",
    "from pprint import pprint\n",
    "from itertools import chain\n",
    "import pymongo\n",
    "\n",
    "\n",
    "import os\n",
    "import json\n",
    "import re \n",
    "from string import punctuation as PUNCTUATION\n",
    "from nltk.corpus import stopwords as _stopwords\n",
    "from gensim.models import Word2Vec\n",
    "from os.path import join as join_path\n",
    "from gensim.models.callbacks import CallbackAny2Vec"
   ]
  },
  {
   "cell_type": "code",
   "execution_count": 2,
   "metadata": {},
   "outputs": [],
   "source": [
    "df = pd.read_csv('data/cord-19-data.csv')"
   ]
  },
  {
   "cell_type": "code",
   "execution_count": 3,
   "metadata": {},
   "outputs": [],
   "source": [
    "class EpochSaver(CallbackAny2Vec):\n",
    "    '''Callback to save model after each epoch.'''\n",
    "class DocEpochSaver(CallbackAny2Vec):\n",
    "    '''Callback to save model after each epoch.'''"
   ]
  },
  {
   "cell_type": "code",
   "execution_count": 4,
   "metadata": {},
   "outputs": [],
   "source": [
    "# Load the last trained model\n",
    "model = Word2Vec.load(join_path('data', 'cord-19-w2v.model'))\n",
    "word_to_int = {word:i for i, word in enumerate(model.wv.index2word)}\n",
    "int_to_word = np.array(model.wv.index2word)"
   ]
  },
  {
   "cell_type": "code",
   "execution_count": 5,
   "metadata": {},
   "outputs": [
    {
     "name": "stdout",
     "output_type": "stream",
     "text": [
      "Text cleaning initilized on 16 workers\n"
     ]
    },
    {
     "name": "stderr",
     "output_type": "stream",
     "text": [
      "Cleaning texts: 100%|██████████| 16/16 [00:00<00:00, 112.89it/s]\n",
      "Adding to index: 100%|██████████| 16/16 [00:00<00:00, 340.27it/s]\n"
     ]
    }
   ],
   "source": [
    "import coordle\n",
    "reload(coordle)\n",
    "from coordle.backend import (CordDoc, Index, RecursiveDescentParser, \n",
    "                             QueryAppenderIndex)\n",
    "\n",
    "ai_index = QueryAppenderIndex(model.wv.most_similar, n_similars=1)\n",
    "ai_index.build_from_df(\n",
    "    df[:16],\n",
    "    'cord_uid',\n",
    "    'title',\n",
    "    'body_text', \n",
    "    verbose=True, \n",
    "    use_multiprocessing=True,\n",
    "    workers=-1\n",
    ")"
   ]
  },
  {
   "cell_type": "code",
   "execution_count": 6,
   "metadata": {
    "scrolled": true
   },
   "outputs": [
    {
     "name": "stdout",
     "output_type": "stream",
     "text": [
      "1wswi7us  Relationship of SARS-CoV to other pathogenic RNA viruses explored by t  27.5316\n",
      "yy96yeu9  Viral Discovery and Sequence Recovery Using DNA Microarrays             20.7570\n",
      "qj4dh6rg  Cloaked similarity between HIV-1 and SARS-CoV suggests an anti-SARS st  13.7934\n",
      "xqhn0vbp  Airborne rhinovirus detection and effect of ultraviolet irradiation on  10.5659\n",
      "ng4rrdte  Pro/con clinical debate: Steroids are a key component in the treatment  6.7059\n",
      "5s6acr7m  The Virus That Changed My World                                         6.0393\n",
      "gi6uaa83  Discovering human history from stomach bacteria                         5.5084\n",
      "le0ogx1s  A new recruit for the army of the men of death                          4.0347\n",
      "0qaoam29  A double epidemic model for the SARS propagation                        2.9428\n",
      "1ul8owic  Air pollution and case fatality of SARS in the People's Republic of Ch  0.8647\n",
      "fy4w7xz8  Association of HLA class I with severe acute respiratory syndrome coro  0.5195\n",
      "1769ovyk  8th Annual Toronto Critical Care Medicine Symposium, 30 October–1 Nove  0.4954\n",
      "kuybfc1y  Descriptive review of geographic mapping of severe acute respiratory s  0.2414\n"
     ]
    }
   ],
   "source": [
    "import coordle\n",
    "reload(coordle)\n",
    "from coordle.backend import CordDoc, Index, RecursiveDescentParser, QueryAppenderIndex\n",
    "\n",
    "docs, scores, errmsgs = ai_index.search('virus')\n",
    "\n",
    "n = 69\n",
    "if errmsgs:\n",
    "    print(errmsgs)\n",
    "else:\n",
    "    for doc, score in zip(docs, scores):\n",
    "        print(f'{doc.uid}  {str(doc.title)[:70]:<70}  {score:.4f}')\n"
   ]
  },
  {
   "cell_type": "code",
   "execution_count": 7,
   "metadata": {},
   "outputs": [
    {
     "data": {
      "text/plain": [
       "{1769ovyk}"
      ]
     },
     "execution_count": 7,
     "metadata": {},
     "output_type": "execute_result"
    }
   ],
   "source": [
    "ai_index.docmap['grace']"
   ]
  },
  {
   "cell_type": "markdown",
   "metadata": {},
   "source": [
    "# Mongo"
   ]
  },
  {
   "cell_type": "code",
   "execution_count": 8,
   "metadata": {},
   "outputs": [
    {
     "name": "stdout",
     "output_type": "stream",
     "text": [
      "Text cleaning initilized on 16 workers\n"
     ]
    },
    {
     "name": "stderr",
     "output_type": "stream",
     "text": [
      "Cleaning texts: 100%|██████████| 128/128 [00:00<00:00, 476.26it/s]\n",
      "Adding to index: 100%|██████████| 128/128 [00:00<00:00, 255.65it/s]\n"
     ]
    }
   ],
   "source": [
    "import coordle\n",
    "reload(coordle)\n",
    "from coordle.backend import (CordDoc, Index, RecursiveDescentParser, QueryAppenderIndex)\n",
    "\n",
    "# ram_index = Index()\n",
    "ram_index = QueryAppenderIndex(model.wv.most_similar, 1)\n",
    "ram_index.build_from_df(\n",
    "    df[:128],\n",
    "    'cord_uid',\n",
    "    'title',\n",
    "    'body_text', \n",
    "    verbose=True, \n",
    "    use_multiprocessing=True,\n",
    "    workers=-1\n",
    ")"
   ]
  },
  {
   "cell_type": "code",
   "execution_count": 9,
   "metadata": {},
   "outputs": [
    {
     "data": {
      "text/plain": [
       "[('coronavirus', 0.5875847339630127),\n",
       " ('coronovirus', 0.4919204115867615),\n",
       " ('sialodacryoadenitis', 0.49028030037879944),\n",
       " ('coronalike', 0.48141905665397644),\n",
       " ('hanta', 0.46863046288490295),\n",
       " ('rota', 0.4572141170501709),\n",
       " ('henipa', 0.4544263780117035),\n",
       " ('calicilike', 0.4494871497154236),\n",
       " ('astro', 0.4480387568473816),\n",
       " ('akabane', 0.44490841031074524)]"
      ]
     },
     "execution_count": 9,
     "metadata": {},
     "output_type": "execute_result"
    }
   ],
   "source": [
    "model.wv.most_similar('corona')"
   ]
  },
  {
   "cell_type": "code",
   "execution_count": 10,
   "metadata": {},
   "outputs": [
    {
     "name": "stderr",
     "output_type": "stream",
     "text": [
      "Initialized database index with size 128\n"
     ]
    },
    {
     "name": "stdout",
     "output_type": "stream",
     "text": [
      "Text cleaning initilized on 16 workers\n"
     ]
    },
    {
     "name": "stderr",
     "output_type": "stream",
     "text": [
      "Cleaning texts: 100%|██████████| 128/128 [00:00<00:00, 460.12it/s]\n",
      "Building word to uids map: 100%|██████████| 128/128 [00:00<00:00, 324.08it/s]\n",
      "Inserting wordmap to database: 100%|██████████| 21296/21296 [00:00<00:00, 227137.69it/s]\n"
     ]
    }
   ],
   "source": [
    "import coordle_mongobackend as cm\n",
    "reload(cm)\n",
    "\n",
    "# mongoindex = cm.Index('coordle')\n",
    "mongoindex = cm.AI_Index('coordle-lite', model.wv.most_similar, 1)\n",
    "mongoindex.drop_old_collections()\n",
    "mongoindex.build_from_df(df[:128], 'cord_uid', 'title', 'body_text', \n",
    "                         use_multiprocessing=True, workers=-1, verbose=True)"
   ]
  },
  {
   "cell_type": "code",
   "execution_count": 11,
   "metadata": {
    "scrolled": true
   },
   "outputs": [
    {
     "name": "stdout",
     "output_type": "stream",
     "text": [
      "1wswi7us   4.3461\n",
      "rxbcuseq   4.0896\n",
      "mxyxwkhx   3.4652\n",
      "yy96yeu9   2.9657\n",
      "v95fzp8n   2.8680\n",
      "4u2re1cu   2.7693\n",
      "pyam9yn3   2.6375\n",
      "0fitbwuv   2.5710\n",
      "jzj8q25c   2.3761\n",
      "zowp10ts   2.3610\n",
      "efrv5nvf   2.3361\n",
      "4k8f7ou1   2.2633\n",
      "covwyddp   2.1964\n",
      "m9rg6d3w   2.1085\n",
      "eqiokrub   2.0828\n",
      "zc491h8v   2.0400\n",
      "i948aq4b   1.9596\n",
      "402ls2aq   1.9440\n",
      "qj4dh6rg   1.9178\n",
      "e6e5nvn9   1.8525\n",
      "jlhykfbf   1.8403\n",
      "4mnaicki   1.7976\n",
      "rrhh2alf   1.7358\n",
      "04cuk2cn   1.7270\n",
      "kqithgfo   1.6879\n",
      "jh9e85c0   1.6357\n",
      "vblgotjn   1.6220\n",
      "xqhn0vbp   1.5734\n",
      "azkamnpa   1.5372\n",
      "1ke7i2wr   1.5274\n",
      "0brhn8oc   1.3996\n",
      "qzm9wgde   1.3740\n",
      "qg0fsliy   1.3605\n",
      "0gmtnkbh   1.3135\n",
      "5gsbtfag   1.2184\n",
      "t20z4mtt   1.1428\n",
      "7ots8npg   1.1306\n",
      "p7um7o87   1.1234\n",
      "dgnddq80   1.1137\n",
      "fpj5urao   0.9534\n",
      "1i36lsj2   0.9528\n",
      "lwla5ugt   0.9432\n",
      "5s6acr7m   0.9225\n",
      "pwsvhitd   0.9024\n",
      "ln8ddyuj   0.8912\n",
      "ng4rrdte   0.8897\n",
      "jz61fxpn   0.8740\n",
      "xtg0e142   0.8406\n",
      "ic4d9dhk   0.8037\n",
      "gi6uaa83   0.7531\n",
      "le0ogx1s   0.6637\n",
      "xv0esvos   0.6512\n",
      "g2f151oc   0.6384\n",
      "9k55f9o6   0.5409\n",
      "mcfmxqp2   0.5335\n",
      "89xnnvuv   0.5225\n",
      "t40ybhgb   0.5001\n",
      "8zwsi4nk   0.4909\n",
      "0qaoam29   0.4841\n",
      "2vlvz5o9   0.4664\n",
      "a22s8xyz   0.4633\n",
      "ofx0hvvs   0.4196\n",
      "pqzwk6rj   0.3680\n",
      "ff7dg890   0.3303\n",
      "0svscbpu   0.3225\n",
      "6vcts4w3   0.3191\n",
      "ckby80vf   0.3136\n",
      "k4en9ksd   0.3106\n",
      "x8zdlml2   0.2848\n",
      "r8j6lhoc   0.2692\n",
      "gdsfkw1b   0.2454\n",
      "oad4l4fa   0.2452\n",
      "ovpgw054   0.2431\n",
      "y0wf456f   0.1959\n",
      "7vi6skvh   0.1660\n",
      "e62cfqt7   0.1350\n",
      "1ul8owic   0.1092\n",
      "ndnze5o4   0.1001\n",
      "mtmgur1u   0.0894\n",
      "fy4w7xz8   0.0855\n",
      "2su7oqbz   0.0725\n",
      "1769ovyk   0.0720\n",
      "fghu8ouc   0.0689\n",
      "lgcmamfb   0.0675\n",
      "47ema2dq   0.0665\n",
      "xiv9vxdp   0.0554\n",
      "snqdma0s   0.0523\n",
      "sgmk96vr   0.0516\n",
      "ej795nks   0.0497\n",
      "bhlnwu69   0.0441\n",
      "yba7mdtb   0.0417\n",
      "kuybfc1y   0.0397\n",
      "wt8zfqk0   0.0395\n",
      "1r65yam5   0.0333\n"
     ]
    }
   ],
   "source": [
    "docs, scores, errmsgs = ram_index.search('virus')\n",
    "\n",
    "if errmsgs:\n",
    "    print(errmsgs)\n",
    "else:\n",
    "    for doc, score in zip(docs, scores):\n",
    "        print(f'{doc.uid}   {score:.4f}')"
   ]
  },
  {
   "cell_type": "code",
   "execution_count": 12,
   "metadata": {
    "scrolled": true
   },
   "outputs": [
    {
     "name": "stdout",
     "output_type": "stream",
     "text": [
      "deque(['virus', 'OR', 'viral'])\n",
      "1wswi7us   4.3461\n",
      "rxbcuseq   4.0896\n",
      "mxyxwkhx   3.4652\n",
      "yy96yeu9   2.9657\n",
      "v95fzp8n   2.8680\n",
      "4u2re1cu   2.7693\n",
      "pyam9yn3   2.6375\n",
      "0fitbwuv   2.5710\n",
      "jzj8q25c   2.3761\n",
      "zowp10ts   2.3610\n",
      "efrv5nvf   2.3361\n",
      "4k8f7ou1   2.2633\n",
      "covwyddp   2.1964\n",
      "m9rg6d3w   2.1085\n",
      "eqiokrub   2.0828\n",
      "zc491h8v   2.0400\n",
      "i948aq4b   1.9596\n",
      "402ls2aq   1.9440\n",
      "qj4dh6rg   1.9178\n",
      "e6e5nvn9   1.8525\n",
      "jlhykfbf   1.8403\n",
      "4mnaicki   1.7976\n",
      "rrhh2alf   1.7358\n",
      "04cuk2cn   1.7270\n",
      "kqithgfo   1.6879\n",
      "jh9e85c0   1.6357\n",
      "vblgotjn   1.6220\n",
      "xqhn0vbp   1.5734\n",
      "azkamnpa   1.5372\n",
      "1ke7i2wr   1.5274\n",
      "0brhn8oc   1.3996\n",
      "qzm9wgde   1.3740\n",
      "qg0fsliy   1.3605\n",
      "0gmtnkbh   1.3135\n",
      "5gsbtfag   1.2184\n",
      "t20z4mtt   1.1428\n",
      "7ots8npg   1.1306\n",
      "p7um7o87   1.1234\n",
      "dgnddq80   1.1137\n",
      "fpj5urao   0.9534\n",
      "1i36lsj2   0.9528\n",
      "lwla5ugt   0.9432\n",
      "5s6acr7m   0.9225\n",
      "pwsvhitd   0.9024\n",
      "ln8ddyuj   0.8912\n",
      "ng4rrdte   0.8897\n",
      "jz61fxpn   0.8740\n",
      "xtg0e142   0.8406\n",
      "ic4d9dhk   0.8037\n",
      "gi6uaa83   0.7531\n",
      "le0ogx1s   0.6637\n",
      "xv0esvos   0.6512\n",
      "g2f151oc   0.6384\n",
      "9k55f9o6   0.5409\n",
      "mcfmxqp2   0.5335\n",
      "89xnnvuv   0.5225\n",
      "t40ybhgb   0.5001\n",
      "8zwsi4nk   0.4909\n",
      "0qaoam29   0.4841\n",
      "2vlvz5o9   0.4664\n",
      "a22s8xyz   0.4633\n",
      "ofx0hvvs   0.4196\n",
      "pqzwk6rj   0.3680\n",
      "ff7dg890   0.3303\n",
      "0svscbpu   0.3225\n",
      "6vcts4w3   0.3191\n",
      "ckby80vf   0.3136\n",
      "k4en9ksd   0.3106\n",
      "x8zdlml2   0.2848\n",
      "r8j6lhoc   0.2692\n",
      "gdsfkw1b   0.2454\n",
      "oad4l4fa   0.2452\n",
      "ovpgw054   0.2431\n",
      "y0wf456f   0.1959\n",
      "7vi6skvh   0.1660\n",
      "e62cfqt7   0.1350\n",
      "1ul8owic   0.1092\n",
      "ndnze5o4   0.1001\n",
      "mtmgur1u   0.0894\n",
      "fy4w7xz8   0.0855\n",
      "2su7oqbz   0.0725\n",
      "1769ovyk   0.0720\n",
      "fghu8ouc   0.0689\n",
      "lgcmamfb   0.0675\n",
      "47ema2dq   0.0665\n",
      "xiv9vxdp   0.0554\n",
      "snqdma0s   0.0523\n",
      "sgmk96vr   0.0516\n",
      "ej795nks   0.0497\n",
      "bhlnwu69   0.0441\n",
      "yba7mdtb   0.0417\n",
      "kuybfc1y   0.0397\n",
      "wt8zfqk0   0.0395\n",
      "1r65yam5   0.0333\n",
      "CPU times: user 540 ms, sys: 18.4 ms, total: 558 ms\n",
      "Wall time: 70.7 ms\n"
     ]
    }
   ],
   "source": [
    "%%time\n",
    "docs, scores, errmsgs = mongoindex.search('virus')\n",
    "\n",
    "if errmsgs:\n",
    "    print(errmsgs)\n",
    "else:\n",
    "    for doc, score in zip(docs, scores):\n",
    "        print(f'{doc}   {score:.4f}')"
   ]
  },
  {
   "cell_type": "code",
   "execution_count": 13,
   "metadata": {},
   "outputs": [],
   "source": [
    "wordmap = {word:[doc.uid for doc in docs] for word, docs in ai_index.docmap.items() if len(word) < 100}"
   ]
  },
  {
   "cell_type": "code",
   "execution_count": 14,
   "metadata": {},
   "outputs": [
    {
     "data": {
      "text/plain": [
       "36565"
      ]
     },
     "execution_count": 14,
     "metadata": {},
     "output_type": "execute_result"
    }
   ],
   "source": [
    "client = pymongo.MongoClient()\n",
    "db_test = client['coordle']\n",
    "db_test.wordcounts.count_documents({})"
   ]
  },
  {
   "cell_type": "code",
   "execution_count": 15,
   "metadata": {},
   "outputs": [
    {
     "name": "stdout",
     "output_type": "stream",
     "text": [
      "['a' 'b' 'c']\n",
      "[3 4 1]\n"
     ]
    }
   ],
   "source": [
    "vals, counts = np.unique(['a','a','a','b','b','b','b','c'], return_counts=True)\n",
    "print(vals)\n",
    "print(counts)"
   ]
  },
  {
   "cell_type": "code",
   "execution_count": 16,
   "metadata": {},
   "outputs": [
    {
     "name": "stdout",
     "output_type": "stream",
     "text": [
      "['b' 'a' 'c']\n",
      "[4 3 1]\n"
     ]
    }
   ],
   "source": [
    "thing = pd.value_counts(['a','a','a','b','b','b','b','c'])\n",
    "print(thing.index.values)\n",
    "print(thing.values)"
   ]
  },
  {
   "cell_type": "markdown",
   "metadata": {},
   "source": [
    "<br />\n",
    "<br />\n",
    "<br />\n",
    "<br />\n",
    "<br />\n",
    "<br />\n",
    "<br />\n",
    "<br />\n",
    "<br />\n",
    "<br />\n",
    "<br />\n",
    "<br />\n",
    "<br />\n",
    "<br />\n",
    "<br />\n",
    "<br />\n",
    "<br />\n",
    "<br />\n",
    "<br />\n",
    "<br />\n",
    "<br />\n",
    "<br />\n",
    "<br />\n",
    "<br />\n",
    "<br />\n",
    "<br />\n",
    "<br />\n",
    "<br />\n",
    "<br />\n",
    "<br />\n",
    "<br />\n",
    "<br />\n",
    "<br />\n",
    "<br />\n",
    "<br />\n",
    "<br />\n",
    "<br />\n",
    "<br />\n",
    "<br />\n",
    "<br />\n",
    "<br />\n",
    "<br />\n",
    "<br />\n",
    "<br />\n",
    "<br />\n",
    "<br />\n",
    "<br />\n",
    "<br />\n",
    "<br />\n",
    "<br />\n",
    "<br />\n",
    "<br />\n",
    "<br />\n",
    "<br />\n",
    "<br />\n",
    "<br />\n",
    "<br />\n",
    "<br />\n",
    "<br />\n",
    "<br />\n",
    "<br />\n",
    "<br />\n",
    "<br />\n",
    "<br />\n",
    "<br />\n",
    "<br />\n",
    "<br />\n",
    "<br />\n",
    "<br />\n",
    "<br />\n",
    "<br />\n",
    "<br />\n",
    "<br />\n",
    "<br />\n",
    "<br />\n",
    "<br />\n",
    "<br />\n",
    "<br />\n",
    "<br />\n",
    "<br />\n",
    "<br />\n",
    "<br />\n",
    "<br />\n",
    "<br />\n",
    "<br />\n",
    "<br />\n",
    "<br />\n",
    "<br />\n",
    "<br />\n",
    "<br />\n",
    "<br />\n",
    "<br />\n",
    "<br />\n",
    "<br />\n",
    "<br />\n",
    "<br />\n",
    "<center><h2> Junkyard </h2></center>"
   ]
  },
  {
   "cell_type": "code",
   "execution_count": 17,
   "metadata": {},
   "outputs": [
    {
     "ename": "ValueError",
     "evalue": "",
     "output_type": "error",
     "traceback": [
      "\u001b[0;31m---------------------------------------------------------------------------\u001b[0m",
      "\u001b[0;31mValueError\u001b[0m                                Traceback (most recent call last)",
      "\u001b[0;32m<ipython-input-17-e4c8e09828d5>\u001b[0m in \u001b[0;36m<module>\u001b[0;34m\u001b[0m\n\u001b[0;32m----> 1\u001b[0;31m \u001b[0;32mraise\u001b[0m \u001b[0mValueError\u001b[0m\u001b[0;34m\u001b[0m\u001b[0;34m\u001b[0m\u001b[0m\n\u001b[0m",
      "\u001b[0;31mValueError\u001b[0m: "
     ]
    }
   ],
   "source": [
    "raise ValueError"
   ]
  },
  {
   "cell_type": "markdown",
   "metadata": {},
   "source": [
    "Creating sets from dicts is faster than from lists"
   ]
  },
  {
   "cell_type": "code",
   "execution_count": null,
   "metadata": {},
   "outputs": [],
   "source": [
    "from time import time \n",
    "from matplotlib import pyplot as plt \n",
    "import numpy as np\n",
    "\n",
    "dict_time = []\n",
    "list_time = []\n",
    "ratios = []\n",
    "\n",
    "xrange = np.arange(1000,1000000,1000)\n",
    "B = set(list(range(100000)))\n",
    "\n",
    "for j in xrange:\n",
    "    a = list(range(j))\n",
    "\n",
    "    t0=time()\n",
    "    A = set(a)\n",
    "    A | B\n",
    "    t1_list = time()-t0\n",
    "    list_time.append(t1_list)\n",
    "    \n",
    "    a = {i:None for i in range(j)}\n",
    "    \n",
    "    t0=time()\n",
    "#     A = set(a)\n",
    "    a.keys() | B\n",
    "    t1_dict = time()-t0\n",
    "    dict_time.append(t1_dict)\n",
    "\n",
    "    ratios.append(t1_list/t1_dict)"
   ]
  },
  {
   "cell_type": "code",
   "execution_count": null,
   "metadata": {},
   "outputs": [],
   "source": [
    "plt.plot(xrange[1:], dict_time[1:], label='dict')\n",
    "plt.plot(xrange[1:], list_time[1:], label='list')\n",
    "plt.legend()\n",
    "plt.show()"
   ]
  },
  {
   "cell_type": "code",
   "execution_count": null,
   "metadata": {},
   "outputs": [],
   "source": [
    "plt.plot(xrange[1:], ratios[1:])\n",
    "plt.show()"
   ]
  },
  {
   "cell_type": "code",
   "execution_count": null,
   "metadata": {},
   "outputs": [],
   "source": [
    "import coordle_backend\n",
    "reload(coordle_backend)\n",
    "from coordle_backend import CordDoc, Index2, RecursiveDescentParser, AI_Index2\n",
    "Index = Index2\n",
    "\n",
    "queries = [\n",
    "    'retarded!!!',\n",
    "#     '(',\n",
    "#     ')',\n",
    "    'retarded (white AND (woman NOT man))',\n",
    "    'retarded (white AND white) man',\n",
    "#     'retarded OR white OR woman',\n",
    "#     'retarded white AND woman',\n",
    "#     'retarded OR white NOT woman',\n",
    "#     'retarded (white NOT woman)',\n",
    "#     'retarded (white NOT woman)',\n",
    "#     'OR retarded AND white woman',\n",
    "#     'retarded AND AND white NOT woman',\n",
    "#     'retarded (white NOT woman) AND',\n",
    "#     ')retarded ((white NOT woman) AND',\n",
    "#     'retarded ((white NOT woman)',\n",
    "#     'AND retarded)) ((white NOT woman) NOT',\n",
    "]\n",
    "\n",
    "rdp = RecursiveDescentParser(index.docmap)\n",
    "for query in queries:\n",
    "    errmsgs = []\n",
    "    tokens = rdp.get_logical_querytokens(query)\n",
    "    pass_ = rdp.assert_query(tokens, errmsgs)\n",
    "    \n",
    "#     print(tokens)\n",
    "    print(rdp.parenthesis_handler(tokens))\n",
    "#     print(errmsgs)\n",
    "    print(pass_)\n",
    "    print()\n",
    "    "
   ]
  }
 ],
 "metadata": {
  "kernelspec": {
   "display_name": "Python 3",
   "language": "python",
   "name": "python3"
  },
  "language_info": {
   "codemirror_mode": {
    "name": "ipython",
    "version": 3
   },
   "file_extension": ".py",
   "mimetype": "text/x-python",
   "name": "python",
   "nbconvert_exporter": "python",
   "pygments_lexer": "ipython3",
   "version": "3.7.4"
  }
 },
 "nbformat": 4,
 "nbformat_minor": 2
}
