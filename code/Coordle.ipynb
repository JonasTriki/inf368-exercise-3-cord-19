{
 "cells": [
  {
   "cell_type": "markdown",
   "metadata": {},
   "source": [
    "# Coordle Backend"
   ]
  },
  {
   "cell_type": "code",
   "execution_count": 1,
   "metadata": {},
   "outputs": [
    {
     "name": "stderr",
     "output_type": "stream",
     "text": [
      "[nltk_data] Downloading package wordnet to /root/nltk_data...\n",
      "[nltk_data]   Package wordnet is already up-to-date!\n",
      "[nltk_data] Downloading package stopwords to /root/nltk_data...\n",
      "[nltk_data]   Package stopwords is already up-to-date!\n"
     ]
    }
   ],
   "source": [
    "import pandas as pd \n",
    "import numpy as np\n",
    "from importlib import reload\n",
    "import nltk\n",
    "import spacy\n",
    "import en_core_sci_lg # Biomedical word embeddings\n",
    "from utils import clean_text, load_pickle, save_pickle\n",
    "from nltk.corpus import stopwords as _stopwords\n",
    "from tqdm import tqdm\n",
    "from collections import deque\n",
    "from copy import deepcopy\n",
    "from collections.abc import Iterable\n",
    "from typing import Union\n",
    "from pprint import pprint\n",
    "from itertools import chain\n",
    "import pymongo\n",
    "\n",
    "\n",
    "import os\n",
    "import json\n",
    "import re \n",
    "from string import punctuation as PUNCTUATION\n",
    "from nltk.corpus import stopwords as _stopwords\n",
    "from gensim.models import Word2Vec\n",
    "from os.path import join as join_path\n",
    "from gensim.models.callbacks import CallbackAny2Vec"
   ]
  },
  {
   "cell_type": "code",
   "execution_count": 2,
   "metadata": {},
   "outputs": [
    {
     "name": "stdout",
     "output_type": "stream",
     "text": [
      "__main__ /home/jonavin/anaconda3/lib/python3.7/site-packages/ipykernel_launcher.py\n"
     ]
    }
   ],
   "source": [
    "import inspect\n",
    "import sys\n",
    "\n",
    "print(__name__, sys.argv[0])"
   ]
  },
  {
   "cell_type": "code",
   "execution_count": 3,
   "metadata": {},
   "outputs": [],
   "source": [
    "df = pd.read_csv('data/cord-19-data.csv')"
   ]
  },
  {
   "cell_type": "code",
   "execution_count": 4,
   "metadata": {},
   "outputs": [],
   "source": [
    "class EpochSaver(CallbackAny2Vec):\n",
    "    '''Callback to save model after each epoch.'''\n",
    "class DocEpochSaver(CallbackAny2Vec):\n",
    "    '''Callback to save model after each epoch.'''"
   ]
  },
  {
   "cell_type": "code",
   "execution_count": 5,
   "metadata": {},
   "outputs": [],
   "source": [
    "# Load the last trained model\n",
    "model = Word2Vec.load(join_path('models-word2vec', 'w2v_model_epoch_29.model'))\n",
    "word_to_int = {word:i for i, word in enumerate(model.wv.index2word)}\n",
    "int_to_word = np.array(model.wv.index2word)"
   ]
  },
  {
   "cell_type": "code",
   "execution_count": 6,
   "metadata": {},
   "outputs": [
    {
     "name": "stdout",
     "output_type": "stream",
     "text": [
      "Text cleaning initilized on 16 workers\n"
     ]
    },
    {
     "name": "stderr",
     "output_type": "stream",
     "text": [
      "Cleaning texts: 100%|██████████| 16/16 [00:00<00:00, 101.52it/s]\n",
      "Adding to index: 100%|██████████| 16/16 [00:00<00:00, 269.04it/s]\n"
     ]
    }
   ],
   "source": [
    "import coordle_backend\n",
    "reload(coordle_backend)\n",
    "from coordle_backend import (CordDoc, Index, RecursiveDescentParser, \n",
    "                             AI_Index)\n",
    "\n",
    "ai_index = AI_Index(model.wv.most_similar, n_similars=1)\n",
    "ai_index.build_from_df(\n",
    "    df[:16],\n",
    "    'cord_uid',\n",
    "    'title',\n",
    "    'body_text', \n",
    "    verbose=True, \n",
    "    use_multiprocessing=True,\n",
    "    workers=-1\n",
    ")"
   ]
  },
  {
   "cell_type": "code",
   "execution_count": 7,
   "metadata": {
    "scrolled": true
   },
   "outputs": [
    {
     "name": "stdout",
     "output_type": "stream",
     "text": [
      "dada\n",
      "deque(['virus'])\n",
      "1wswi7us  Relationship of SARS-CoV to other pathogenic RNA viruses explored by t  39.6302\n",
      "yy96yeu9  Viral Discovery and Sequence Recovery Using DNA Microarrays             15.6958\n",
      "xqhn0vbp  Airborne rhinovirus detection and effect of ultraviolet irradiation on  10.8963\n",
      "qj4dh6rg  Cloaked similarity between HIV-1 and SARS-CoV suggests an anti-SARS st  8.0116\n",
      "5s6acr7m  The Virus That Changed My World                                         7.2854\n",
      "le0ogx1s  A new recruit for the army of the men of death                          7.0304\n",
      "0qaoam29  A double epidemic model for the SARS propagation                        5.1278\n",
      "gi6uaa83  Discovering human history from stomach bacteria                         2.6177\n",
      "ng4rrdte  Pro/con clinical debate: Steroids are a key component in the treatment  1.9475\n",
      "fy4w7xz8  Association of HLA class I with severe acute respiratory syndrome coro  0.9052\n",
      "1769ovyk  8th Annual Toronto Critical Care Medicine Symposium, 30 October–1 Nove  0.4316\n",
      "kuybfc1y  Descriptive review of geographic mapping of severe acute respiratory s  0.4206\n"
     ]
    }
   ],
   "source": [
    "import coordle_backend\n",
    "reload(coordle_backend)\n",
    "from coordle_backend import CordDoc, Index, RecursiveDescentParser, AI_Index\n",
    "\n",
    "docs, scores, errmsgs = ai_index.search('virus')\n",
    "\n",
    "n = 69\n",
    "if errmsgs:\n",
    "    print(errmsgs)\n",
    "else:\n",
    "    for doc, score in zip(docs, scores):\n",
    "        print(f'{doc.uid}  {str(doc.title)[:70]:<70}  {score:.4f}')\n"
   ]
  },
  {
   "cell_type": "code",
   "execution_count": 8,
   "metadata": {},
   "outputs": [
    {
     "data": {
      "text/plain": [
       "{1769ovyk}"
      ]
     },
     "execution_count": 8,
     "metadata": {},
     "output_type": "execute_result"
    }
   ],
   "source": [
    "ai_index.docmap['grace']"
   ]
  },
  {
   "cell_type": "code",
   "execution_count": 9,
   "metadata": {},
   "outputs": [
    {
     "name": "stdout",
     "output_type": "stream",
     "text": [
      "dumping qzm9wgde\n"
     ]
    }
   ],
   "source": [
    "with open('textfile.txt', 'w+') as f:\n",
    "    uid = 'qzm9wgde'\n",
    "    \n",
    "    print(f'dumping {uid}')\n",
    "    f.write(df[df.cord_uid == uid].body_text.values[0].lower())"
   ]
  },
  {
   "cell_type": "markdown",
   "metadata": {},
   "source": [
    "# Mongo"
   ]
  },
  {
   "cell_type": "code",
   "execution_count": 10,
   "metadata": {},
   "outputs": [
    {
     "name": "stdout",
     "output_type": "stream",
     "text": [
      "Text cleaning initilized on 16 workers\n"
     ]
    },
    {
     "name": "stderr",
     "output_type": "stream",
     "text": [
      "Cleaning texts: 100%|██████████| 128/128 [00:00<00:00, 408.29it/s]\n",
      "Adding to index: 100%|██████████| 128/128 [00:00<00:00, 392.29it/s]\n"
     ]
    }
   ],
   "source": [
    "import coordle_backend\n",
    "reload(coordle_backend)\n",
    "from coordle_backend import (CordDoc, Index, RecursiveDescentParser, \n",
    "                             AI_Index)\n",
    "\n",
    "# ram_index = Index()\n",
    "ram_index = AI_Index(model.wv.most_similar, 1)\n",
    "ram_index.build_from_df(\n",
    "    df[:128],\n",
    "    'cord_uid',\n",
    "    'title',\n",
    "    'body_text', \n",
    "    verbose=True, \n",
    "    use_multiprocessing=True,\n",
    "    workers=-1\n",
    ")"
   ]
  },
  {
   "cell_type": "code",
   "execution_count": 11,
   "metadata": {},
   "outputs": [
    {
     "data": {
      "text/plain": [
       "[('coronavirus', 0.6643324494361877),\n",
       " ('coronovirus', 0.5752148032188416),\n",
       " ('coronaviruses', 0.5292266607284546),\n",
       " ('syncytial', 0.5095627307891846),\n",
       " ('rota', 0.5032534003257751),\n",
       " ('crownlike', 0.49367228150367737),\n",
       " ('paramyxo', 0.4860883057117462),\n",
       " ('flavi', 0.4837533235549927),\n",
       " ('herpes', 0.48291248083114624),\n",
       " ('picorna', 0.48181605339050293)]"
      ]
     },
     "execution_count": 11,
     "metadata": {},
     "output_type": "execute_result"
    }
   ],
   "source": [
    "model.wv.most_similar('corona')"
   ]
  },
  {
   "cell_type": "code",
   "execution_count": 20,
   "metadata": {},
   "outputs": [
    {
     "name": "stdout",
     "output_type": "stream",
     "text": [
      "Text cleaning initilized on 16 workers\n"
     ]
    },
    {
     "name": "stderr",
     "output_type": "stream",
     "text": [
      "Initialized database index with size 0\n",
      "Cleaning texts: 100%|██████████| 128/128 [00:00<00:00, 444.32it/s]\n",
      "Building word to uids map: 100%|██████████| 128/128 [00:01<00:00, 73.48it/s]\n",
      "Inserting wordmap to database: 100%|██████████| 21296/21296 [00:00<00:00, 264931.43it/s]\n"
     ]
    }
   ],
   "source": [
    "import coordle_mongobackend as cm\n",
    "reload(cm)\n",
    "\n",
    "# mongoindex = cm.Index('coordle')\n",
    "mongoindex = cm.AI_Index('coordle-lite', model.wv.most_similar, 1)\n",
    "mongoindex.drop_old_collections()\n",
    "mongoindex.build_from_df(df[:128], 'cord_uid', 'title', 'body_text', \n",
    "                         use_multiprocessing=True, workers=-1, verbose=True)"
   ]
  },
  {
   "cell_type": "code",
   "execution_count": 13,
   "metadata": {
    "scrolled": true
   },
   "outputs": [
    {
     "name": "stdout",
     "output_type": "stream",
     "text": [
      "dada\n",
      "deque(['virus'])\n",
      "1wswi7us   6.9742\n",
      "v95fzp8n   4.7759\n",
      "rxbcuseq   3.9033\n",
      "efrv5nvf   3.5226\n",
      "jlhykfbf   3.1859\n",
      "yy96yeu9   2.7622\n",
      "azkamnpa   2.6476\n",
      "1ke7i2wr   2.5464\n",
      "0fitbwuv   2.4944\n",
      "4k8f7ou1   2.3703\n",
      "04cuk2cn   2.3648\n",
      "jzj8q25c   2.3393\n",
      "t20z4mtt   1.9912\n",
      "dgnddq80   1.9810\n",
      "eqiokrub   1.9740\n",
      "xqhn0vbp   1.9176\n",
      "pyam9yn3   1.8420\n",
      "0brhn8oc   1.8389\n",
      "4mnaicki   1.8203\n",
      "fpj5urao   1.7773\n",
      "jh9e85c0   1.6942\n",
      "kqithgfo   1.6882\n",
      "zowp10ts   1.6425\n",
      "mxyxwkhx   1.6360\n",
      "covwyddp   1.6148\n",
      "zc491h8v   1.5761\n",
      "1i36lsj2   1.5643\n",
      "402ls2aq   1.4608\n",
      "qj4dh6rg   1.4099\n",
      "5s6acr7m   1.2821\n",
      "4u2re1cu   1.2680\n",
      "vblgotjn   1.2619\n",
      "lwla5ugt   1.2553\n",
      "le0ogx1s   1.2372\n",
      "xtg0e142   1.1682\n",
      "rrhh2alf   1.1382\n",
      "e6e5nvn9   1.0813\n",
      "qzm9wgde   1.0534\n",
      "9k55f9o6   1.0082\n",
      "5gsbtfag   0.9806\n",
      "89xnnvuv   0.9740\n",
      "ln8ddyuj   0.9677\n",
      "0qaoam29   0.9024\n",
      "p7um7o87   0.8935\n",
      "m9rg6d3w   0.8529\n",
      "qg0fsliy   0.7677\n",
      "8zwsi4nk   0.7286\n",
      "0gmtnkbh   0.7226\n",
      "pqzwk6rj   0.6860\n",
      "t40ybhgb   0.6422\n",
      "0svscbpu   0.6012\n",
      "mcfmxqp2   0.5998\n",
      "ckby80vf   0.5846\n",
      "ofx0hvvs   0.5652\n",
      "2vlvz5o9   0.5386\n",
      "x8zdlml2   0.5309\n",
      "xv0esvos   0.5179\n",
      "gi6uaa83   0.4607\n",
      "7ots8npg   0.4280\n",
      "a22s8xyz   0.3827\n",
      "ng4rrdte   0.3427\n",
      "jz61fxpn   0.3153\n",
      "7vi6skvh   0.3095\n",
      "pwsvhitd   0.3000\n",
      "i948aq4b   0.2750\n",
      "oad4l4fa   0.2586\n",
      "e62cfqt7   0.2516\n",
      "ff7dg890   0.2428\n",
      "6vcts4w3   0.2346\n",
      "gdsfkw1b   0.1804\n",
      "k4en9ksd   0.1753\n",
      "ic4d9dhk   0.1727\n",
      "mtmgur1u   0.1666\n",
      "fy4w7xz8   0.1593\n",
      "ovpgw054   0.1372\n",
      "fghu8ouc   0.1285\n",
      "lgcmamfb   0.1259\n",
      "47ema2dq   0.1240\n",
      "xiv9vxdp   0.1032\n",
      "bhlnwu69   0.0822\n",
      "yba7mdtb   0.0778\n",
      "1769ovyk   0.0759\n",
      "kuybfc1y   0.0740\n",
      "wt8zfqk0   0.0737\n",
      "1r65yam5   0.0620\n",
      "sgmk96vr   0.0544\n",
      "2su7oqbz   0.0533\n",
      "ndnze5o4   0.0458\n"
     ]
    }
   ],
   "source": [
    "docs, scores, errmsgs = ram_index.search('virus')\n",
    "\n",
    "if errmsgs:\n",
    "    print(errmsgs)\n",
    "else:\n",
    "    for doc, score in zip(docs, scores):\n",
    "        print(f'{doc.uid}   {score:.4f}')"
   ]
  },
  {
   "cell_type": "code",
   "execution_count": 21,
   "metadata": {},
   "outputs": [
    {
     "name": "stdout",
     "output_type": "stream",
     "text": [
      "deque(['virus', 'OR', 'viruses'])\n",
      "1wswi7us   6.9742\n",
      "v95fzp8n   4.7759\n",
      "rxbcuseq   3.9033\n",
      "efrv5nvf   3.5226\n",
      "jlhykfbf   3.1859\n",
      "yy96yeu9   2.7622\n",
      "azkamnpa   2.6476\n",
      "1ke7i2wr   2.5464\n",
      "0fitbwuv   2.4944\n",
      "4k8f7ou1   2.3703\n",
      "04cuk2cn   2.3648\n",
      "jzj8q25c   2.3393\n",
      "t20z4mtt   1.9912\n",
      "dgnddq80   1.9810\n",
      "eqiokrub   1.9740\n",
      "xqhn0vbp   1.9176\n",
      "pyam9yn3   1.8420\n",
      "0brhn8oc   1.8389\n",
      "4mnaicki   1.8203\n",
      "fpj5urao   1.7773\n",
      "jh9e85c0   1.6942\n",
      "kqithgfo   1.6882\n",
      "zowp10ts   1.6425\n",
      "mxyxwkhx   1.6360\n",
      "covwyddp   1.6148\n",
      "zc491h8v   1.5761\n",
      "1i36lsj2   1.5643\n",
      "402ls2aq   1.4608\n",
      "qj4dh6rg   1.4099\n",
      "5s6acr7m   1.2821\n",
      "4u2re1cu   1.2680\n",
      "vblgotjn   1.2619\n",
      "lwla5ugt   1.2553\n",
      "le0ogx1s   1.2372\n",
      "xtg0e142   1.1682\n",
      "rrhh2alf   1.1382\n",
      "e6e5nvn9   1.0813\n",
      "qzm9wgde   1.0534\n",
      "9k55f9o6   1.0082\n",
      "5gsbtfag   0.9806\n",
      "89xnnvuv   0.9740\n",
      "ln8ddyuj   0.9677\n",
      "0qaoam29   0.9024\n",
      "p7um7o87   0.8935\n",
      "m9rg6d3w   0.8529\n",
      "qg0fsliy   0.7677\n",
      "8zwsi4nk   0.7286\n",
      "0gmtnkbh   0.7226\n",
      "pqzwk6rj   0.6860\n",
      "t40ybhgb   0.6422\n",
      "0svscbpu   0.6012\n",
      "mcfmxqp2   0.5998\n",
      "ckby80vf   0.5846\n",
      "ofx0hvvs   0.5652\n",
      "2vlvz5o9   0.5386\n",
      "x8zdlml2   0.5309\n",
      "xv0esvos   0.5179\n",
      "gi6uaa83   0.4607\n",
      "7ots8npg   0.4280\n",
      "a22s8xyz   0.3827\n",
      "ng4rrdte   0.3427\n",
      "jz61fxpn   0.3153\n",
      "7vi6skvh   0.3095\n",
      "pwsvhitd   0.3000\n",
      "i948aq4b   0.2750\n",
      "oad4l4fa   0.2586\n",
      "e62cfqt7   0.2516\n",
      "ff7dg890   0.2428\n",
      "6vcts4w3   0.2346\n",
      "gdsfkw1b   0.1804\n",
      "k4en9ksd   0.1753\n",
      "ic4d9dhk   0.1727\n",
      "mtmgur1u   0.1666\n",
      "fy4w7xz8   0.1593\n",
      "ovpgw054   0.1372\n",
      "fghu8ouc   0.1285\n",
      "lgcmamfb   0.1259\n",
      "47ema2dq   0.1240\n",
      "xiv9vxdp   0.1032\n",
      "bhlnwu69   0.0822\n",
      "yba7mdtb   0.0778\n",
      "1769ovyk   0.0759\n",
      "kuybfc1y   0.0740\n",
      "wt8zfqk0   0.0737\n",
      "1r65yam5   0.0620\n",
      "sgmk96vr   0.0544\n",
      "2su7oqbz   0.0533\n",
      "ndnze5o4   0.0458\n",
      "CPU times: user 541 ms, sys: 31.2 ms, total: 572 ms\n",
      "Wall time: 72.9 ms\n"
     ]
    }
   ],
   "source": [
    "%%time\n",
    "docs, scores, errmsgs = mongoindex.search('virus')\n",
    "\n",
    "if errmsgs:\n",
    "    print(errmsgs)\n",
    "else:\n",
    "    for doc, score in zip(docs, scores):\n",
    "        print(f'{doc}   {score:.4f}')"
   ]
  },
  {
   "cell_type": "code",
   "execution_count": 15,
   "metadata": {},
   "outputs": [],
   "source": [
    "wordmap = {word:[doc.uid for doc in docs] for word, docs in ai_index.docmap.items() if len(word) < 100}"
   ]
  },
  {
   "cell_type": "code",
   "execution_count": 16,
   "metadata": {},
   "outputs": [
    {
     "data": {
      "text/plain": [
       "array(['d', 'c', 'a'], dtype=object)"
      ]
     },
     "execution_count": 16,
     "metadata": {},
     "output_type": "execute_result"
    }
   ],
   "source": [
    "A = pd.value_counts(['a','a','a','d','c','c','c','c','d'], sort=False)\n",
    "A.index.values"
   ]
  },
  {
   "cell_type": "code",
   "execution_count": 17,
   "metadata": {},
   "outputs": [
    {
     "data": {
      "text/plain": [
       "[[1], 1]"
      ]
     },
     "execution_count": 17,
     "metadata": {},
     "output_type": "execute_result"
    }
   ],
   "source": [
    "A = [[],0]\n",
    "A[0].append(1)\n",
    "A[1] += 1\n",
    "A"
   ]
  },
  {
   "cell_type": "code",
   "execution_count": 18,
   "metadata": {},
   "outputs": [
    {
     "data": {
      "text/plain": [
       "36565"
      ]
     },
     "execution_count": 18,
     "metadata": {},
     "output_type": "execute_result"
    }
   ],
   "source": [
    "client = pymongo.MongoClient()\n",
    "db_test = client['coordle']\n",
    "db_test.wordcounts.count_documents({})"
   ]
  },
  {
   "cell_type": "markdown",
   "metadata": {},
   "source": [
    "<br />\n",
    "<br />\n",
    "<br />\n",
    "<br />\n",
    "<br />\n",
    "<br />\n",
    "<br />\n",
    "<br />\n",
    "<br />\n",
    "<br />\n",
    "<br />\n",
    "<br />\n",
    "<br />\n",
    "<br />\n",
    "<br />\n",
    "<br />\n",
    "<br />\n",
    "<br />\n",
    "<br />\n",
    "<br />\n",
    "<br />\n",
    "<br />\n",
    "<br />\n",
    "<br />\n",
    "<br />\n",
    "<br />\n",
    "<br />\n",
    "<br />\n",
    "<br />\n",
    "<br />\n",
    "<br />\n",
    "<br />\n",
    "<br />\n",
    "<br />\n",
    "<br />\n",
    "<br />\n",
    "<br />\n",
    "<br />\n",
    "<br />\n",
    "<br />\n",
    "<br />\n",
    "<br />\n",
    "<br />\n",
    "<br />\n",
    "<br />\n",
    "<br />\n",
    "<br />\n",
    "<br />\n",
    "<br />\n",
    "<br />\n",
    "<br />\n",
    "<br />\n",
    "<br />\n",
    "<br />\n",
    "<br />\n",
    "<br />\n",
    "<br />\n",
    "<br />\n",
    "<br />\n",
    "<br />\n",
    "<br />\n",
    "<br />\n",
    "<br />\n",
    "<br />\n",
    "<br />\n",
    "<br />\n",
    "<br />\n",
    "<br />\n",
    "<br />\n",
    "<br />\n",
    "<br />\n",
    "<br />\n",
    "<br />\n",
    "<br />\n",
    "<br />\n",
    "<br />\n",
    "<br />\n",
    "<br />\n",
    "<br />\n",
    "<br />\n",
    "<br />\n",
    "<br />\n",
    "<br />\n",
    "<br />\n",
    "<br />\n",
    "<br />\n",
    "<br />\n",
    "<br />\n",
    "<br />\n",
    "<br />\n",
    "<br />\n",
    "<br />\n",
    "<br />\n",
    "<br />\n",
    "<br />\n",
    "<br />\n",
    "<center><h2> Junkyard </h2></center>"
   ]
  },
  {
   "cell_type": "code",
   "execution_count": 19,
   "metadata": {},
   "outputs": [
    {
     "ename": "ValueError",
     "evalue": "",
     "output_type": "error",
     "traceback": [
      "\u001b[0;31m---------------------------------------------------------------------------\u001b[0m",
      "\u001b[0;31mValueError\u001b[0m                                Traceback (most recent call last)",
      "\u001b[0;32m<ipython-input-19-e4c8e09828d5>\u001b[0m in \u001b[0;36m<module>\u001b[0;34m\u001b[0m\n\u001b[0;32m----> 1\u001b[0;31m \u001b[0;32mraise\u001b[0m \u001b[0mValueError\u001b[0m\u001b[0;34m\u001b[0m\u001b[0;34m\u001b[0m\u001b[0m\n\u001b[0m",
      "\u001b[0;31mValueError\u001b[0m: "
     ]
    }
   ],
   "source": [
    "raise ValueError"
   ]
  },
  {
   "cell_type": "markdown",
   "metadata": {},
   "source": [
    "Creating sets from dicts is faster than from lists"
   ]
  },
  {
   "cell_type": "code",
   "execution_count": null,
   "metadata": {},
   "outputs": [],
   "source": [
    "from time import time \n",
    "from matplotlib import pyplot as plt \n",
    "import numpy as np\n",
    "\n",
    "dict_time = []\n",
    "list_time = []\n",
    "ratios = []\n",
    "\n",
    "xrange = np.arange(1000,1000000,1000)\n",
    "B = set(list(range(100000)))\n",
    "\n",
    "for j in xrange:\n",
    "    a = list(range(j))\n",
    "\n",
    "    t0=time()\n",
    "    A = set(a)\n",
    "    A | B\n",
    "    t1_list = time()-t0\n",
    "    list_time.append(t1_list)\n",
    "    \n",
    "    a = {i:None for i in range(j)}\n",
    "    \n",
    "    t0=time()\n",
    "#     A = set(a)\n",
    "    a.keys() | B\n",
    "    t1_dict = time()-t0\n",
    "    dict_time.append(t1_dict)\n",
    "\n",
    "    ratios.append(t1_list/t1_dict)"
   ]
  },
  {
   "cell_type": "code",
   "execution_count": null,
   "metadata": {},
   "outputs": [],
   "source": [
    "plt.plot(xrange[1:], dict_time[1:], label='dict')\n",
    "plt.plot(xrange[1:], list_time[1:], label='list')\n",
    "plt.legend()\n",
    "plt.show()"
   ]
  },
  {
   "cell_type": "code",
   "execution_count": null,
   "metadata": {},
   "outputs": [],
   "source": [
    "plt.plot(xrange[1:], ratios[1:])\n",
    "plt.show()"
   ]
  },
  {
   "cell_type": "code",
   "execution_count": null,
   "metadata": {},
   "outputs": [],
   "source": [
    "import coordle_backend\n",
    "reload(coordle_backend)\n",
    "from coordle_backend import CordDoc, Index2, RecursiveDescentParser, AI_Index2\n",
    "Index = Index2\n",
    "\n",
    "queries = [\n",
    "    'retarded!!!',\n",
    "#     '(',\n",
    "#     ')',\n",
    "    'retarded (white AND (woman NOT man))',\n",
    "    'retarded (white AND white) man',\n",
    "#     'retarded OR white OR woman',\n",
    "#     'retarded white AND woman',\n",
    "#     'retarded OR white NOT woman',\n",
    "#     'retarded (white NOT woman)',\n",
    "#     'retarded (white NOT woman)',\n",
    "#     'OR retarded AND white woman',\n",
    "#     'retarded AND AND white NOT woman',\n",
    "#     'retarded (white NOT woman) AND',\n",
    "#     ')retarded ((white NOT woman) AND',\n",
    "#     'retarded ((white NOT woman)',\n",
    "#     'AND retarded)) ((white NOT woman) NOT',\n",
    "]\n",
    "\n",
    "rdp = RecursiveDescentParser(index.docmap)\n",
    "for query in queries:\n",
    "    errmsgs = []\n",
    "    tokens = rdp.get_logical_querytokens(query)\n",
    "    pass_ = rdp.assert_query(tokens, errmsgs)\n",
    "    \n",
    "#     print(tokens)\n",
    "    print(rdp.parenthesis_handler(tokens))\n",
    "#     print(errmsgs)\n",
    "    print(pass_)\n",
    "    print()\n",
    "    "
   ]
  }
 ],
 "metadata": {
  "kernelspec": {
   "display_name": "Python 3",
   "language": "python",
   "name": "python3"
  },
  "language_info": {
   "codemirror_mode": {
    "name": "ipython",
    "version": 3
   },
   "file_extension": ".py",
   "mimetype": "text/x-python",
   "name": "python",
   "nbconvert_exporter": "python",
   "pygments_lexer": "ipython3",
   "version": "3.7.4"
  }
 },
 "nbformat": 4,
 "nbformat_minor": 2
}
