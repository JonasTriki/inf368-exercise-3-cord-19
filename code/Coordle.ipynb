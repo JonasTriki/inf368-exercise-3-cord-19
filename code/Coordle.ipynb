{
 "cells": [
  {
   "cell_type": "markdown",
   "metadata": {},
   "source": [
    "# Coordle Idea\n",
    "1. Get query, e.g. \"What is love?\"\n",
    "2. Tokenize query\n",
    "3. Create a vector using word2vec of the tokens by summing them, or finding the average or whatever.\n",
    "   lets call it the query vector. \n",
    "4. Find sentence vectors that are the closesest to the query vector.\n",
    "5. Return the papers corresponding to said sentence vectors."
   ]
  },
  {
   "cell_type": "markdown",
   "metadata": {},
   "source": [
    "# Coordle Frontend\n",
    "💩"
   ]
  },
  {
   "cell_type": "markdown",
   "metadata": {},
   "source": [
    "# Coordle Backend"
   ]
  },
  {
   "cell_type": "code",
   "execution_count": 23,
   "metadata": {},
   "outputs": [],
   "source": [
    "import pandas as pd \n",
    "import numpy as np\n",
    "from importlib import reload\n",
    "import nltk\n",
    "import spacy\n",
    "import en_core_sci_lg # Biomedical word embeddings\n",
    "from utils import clean_text, load_pickle, save_pickle\n",
    "from nltk.corpus import stopwords as _stopwords\n",
    "from tqdm import tqdm\n",
    "from collections import deque\n",
    "from copy import deepcopy\n",
    "from collections.abc import Iterable\n",
    "from typing import Union\n",
    "from pprint import pprint\n",
    "from itertools import chain\n",
    "\n",
    "import os\n",
    "import json\n",
    "import re \n",
    "from string import punctuation as PUNCTUATION\n",
    "from nltk.corpus import stopwords as _stopwords\n",
    "from gensim.models import Word2Vec\n",
    "from os.path import join as join_path\n",
    "from gensim.models.callbacks import CallbackAny2Vec"
   ]
  },
  {
   "cell_type": "code",
   "execution_count": 3,
   "metadata": {},
   "outputs": [],
   "source": [
    "df = pd.read_csv('data/cord-19-data.csv')"
   ]
  },
  {
   "cell_type": "code",
   "execution_count": 4,
   "metadata": {},
   "outputs": [],
   "source": [
    "class EpochSaver(CallbackAny2Vec):\n",
    "    '''Callback to save model after each epoch.'''\n",
    "\n",
    "    def __init__(self, output_dir: str, prefix: str, logs_filename: str):\n",
    "        self.output_dir = output_dir\n",
    "        self.prefix = prefix\n",
    "        self.logs_filename = logs_filename\n",
    "        self.epoch = 0\n",
    "\n",
    "    def on_epoch_end(self, model):\n",
    "        cum_loss = model.get_latest_training_loss()\n",
    "        if self.epoch == 0:\n",
    "            loss = cum_loss\n",
    "        else:\n",
    "            loss = cum_loss - self.loss_previous_step\n",
    "        self.loss_previous_step = loss\n",
    "        with open(join_path(self.output_dir, self.logs_filename), 'a+') as file:\n",
    "            file.write(f'Epoch #{self.epoch}, loss: {loss}\\n')\n",
    "        \n",
    "        output_path = join_path(self.output_dir, f'{self.prefix}_epoch_{self.epoch}.model')\n",
    "        model.save(output_path)\n",
    "        self.epoch += 1    \n",
    "\n",
    "class DocEpochSaver(CallbackAny2Vec):\n",
    "    '''Callback to save model after each epoch.'''\n",
    "\n",
    "    def __init__(self, output_dir: str, prefix: str, start_epoch: int = 1):\n",
    "        self.output_dir = output_dir\n",
    "        self.prefix = prefix\n",
    "        self.epoch = start_epoch\n",
    "\n",
    "    def on_epoch_end(self, model):        \n",
    "        output_path = join_path(self.output_dir, f'{self.prefix}_epoch_{self.epoch}.model')\n",
    "        model.save(output_path)\n",
    "        self.epoch += 1    "
   ]
  },
  {
   "cell_type": "code",
   "execution_count": 5,
   "metadata": {},
   "outputs": [],
   "source": [
    "# Load the last trained model\n",
    "model = Word2Vec.load(join_path('models-word2vec', 'w2v_model_epoch_29.model'))\n",
    "word_to_int = {word:i for i, word in enumerate(model.wv.index2word)}\n",
    "int_to_word = np.array(model.wv.index2word)"
   ]
  },
  {
   "cell_type": "code",
   "execution_count": 133,
   "metadata": {},
   "outputs": [
    {
     "name": "stdout",
     "output_type": "stream",
     "text": [
      "Text cleaning initilized on 16 workers\n"
     ]
    },
    {
     "name": "stderr",
     "output_type": "stream",
     "text": [
      "Cleaning texts: 100%|██████████| 4196/4196 [00:14<00:00, 281.46it/s]\n",
      "Adding to index: 100%|██████████| 4196/4196 [00:19<00:00, 219.56it/s]\n"
     ]
    }
   ],
   "source": [
    "# %%time\n",
    "import coordle_backend\n",
    "reload(coordle_backend)\n",
    "from coordle_backend import SentVectorDoc, Index, RecursiveDescentParser\n",
    "\n",
    "def test_SentVectorDoc():\n",
    "    docsample = df[df.cord_uid == 'vs5yondw']\n",
    "#     doc = SentVectorDoc(docsample['cord_uid'], docsample['title'])\n",
    "#     doc, _ = doc.fit(docsample['body_text'])\n",
    "    gaga = Index()\n",
    "    gaga.build_from_df(\n",
    "        docsample,\n",
    "#         df[:32],\n",
    "        'cord_uid',\n",
    "        'title',\n",
    "        'body_text', \n",
    "        verbose=True, \n",
    "        use_multiprocessing=False,\n",
    "        workers=-1\n",
    "    )\n",
    "    \n",
    "    return gaga\n",
    "#     return doc\n",
    "\n",
    "def test_Index():\n",
    "    coordle = Index()\n",
    "    coordle.build_from_df(\n",
    "        df.iloc[:4196],\n",
    "        'cord_uid',\n",
    "        'title',\n",
    "        'body_text', \n",
    "        verbose=True, \n",
    "        use_multiprocessing=True,\n",
    "        workers=-1\n",
    "    )\n",
    "    return coordle\n",
    "\n",
    "index = test_Index()\n",
    "# fuck = test_SentVectorDoc()"
   ]
  },
  {
   "cell_type": "code",
   "execution_count": 127,
   "metadata": {},
   "outputs": [],
   "source": [
    "# save_pickle(index, 'coordle/coordle_index_8k_0904.p')"
   ]
  },
  {
   "cell_type": "code",
   "execution_count": 128,
   "metadata": {},
   "outputs": [
    {
     "name": "stdout",
     "output_type": "stream",
     "text": [
      "Query tokens:  ['retarded', 'white', 'woman']\n",
      "[8bnny6hj, zp9k1k3z, 5xswwney, fdtwagr1, 1rzbaj02, hnl4a33n, 15mv5yx7, 2ole6ya7, vs5yondw, j1iylpgm, eyk015n3, bgygebgx, mnhg329v, y2ruobm0, uq88w4fm, i94lyfsh, lno01041, y2uhnlpd, 9jpc42h1, ensep6lk, qf32xs4m, 34jn37sb, p8bzkmas, y3hgnb6u, rwlryr0h, 67kyfybe, vdk2pxkk, 0b1qaecu, vo2oe2wr, uhrijlyz, 9hru9fyg, i6vuhaiv, mj9ea464, ret6iq3o, piwdsazx, fu0x6bqb, qg2pb884, pq0atbfg, x4fbph3d, ootj52fs, 8ext7xa7, dksh41wz, mvv1rg68, sb43y1cl, x8uzlsn7, gu0930s3, pbhdzshl, 7lzyvzg2, 5yrouyvo, qwh8ei60, fvrhzc7x, h1gnp62r, 8kooncil, 8rs8ilio, oir3rlb7, 5lmrthmb, wwf90zxt]\n",
      "\n"
     ]
    }
   ],
   "source": [
    "query = 'retarded white woman'\n",
    "docs1, score = index.search(query, verbose=True)\n",
    "print(docs1)\n",
    "print()\n",
    "# docs2 = index.advanced_search(query, verbose=True)\n",
    "# print(docs2)"
   ]
  },
  {
   "cell_type": "code",
   "execution_count": 129,
   "metadata": {},
   "outputs": [
    {
     "name": "stdout",
     "output_type": "stream",
     "text": [
      "['retarded', '(', 'white', 'AND', 'woman', ')']\n"
     ]
    }
   ],
   "source": [
    "query = 'retarded    (white AND woman)'\n",
    "querytokens = re.split('([^a-zA-Z0-9])', query)\n",
    "# Gotta do this to capture parenthesis\n",
    "querytokens = chain.from_iterable([t.split() for t in querytokens])\n",
    "\n",
    "print(list(querytokens))"
   ]
  },
  {
   "cell_type": "code",
   "execution_count": 135,
   "metadata": {},
   "outputs": [
    {
     "name": "stdout",
     "output_type": "stream",
     "text": [
      "deque(['retarded'])\n",
      "True\n",
      "\n",
      "deque(['retarded', 'OR', deque(['white', 'AND', deque(['woman', 'NOT', 'man'])])])\n",
      "True\n",
      "\n",
      "deque(['retarded', 'OR', deque(['white', 'AND', 'white']), 'OR', 'man'])\n",
      "True\n",
      "\n"
     ]
    }
   ],
   "source": [
    "import coordle_backend\n",
    "reload(coordle_backend)\n",
    "from coordle_backend import SentVectorDoc, Index, RecursiveDescentParser\n",
    "\n",
    "queries = [\n",
    "    'retarded!!!',\n",
    "#     '(',\n",
    "#     ')',\n",
    "    'retarded (white AND (woman NOT man))',\n",
    "    'retarded (white AND white) man',\n",
    "#     'retarded OR white OR woman',\n",
    "#     'retarded white AND woman',\n",
    "#     'retarded OR white NOT woman',\n",
    "#     'retarded (white NOT woman)',\n",
    "#     'retarded (white NOT woman)',\n",
    "#     'OR retarded AND white woman',\n",
    "#     'retarded AND AND white NOT woman',\n",
    "#     'retarded (white NOT woman) AND',\n",
    "#     ')retarded ((white NOT woman) AND',\n",
    "#     'retarded ((white NOT woman)',\n",
    "#     'AND retarded)) ((white NOT woman) NOT',\n",
    "]\n",
    "\n",
    "rdp = RecursiveDescentParser(index.docmap)\n",
    "for query in queries:\n",
    "    errmsgs = []\n",
    "    tokens = rdp.get_logical_querytokens(query)\n",
    "    pass_ = rdp.assert_query(tokens, errmsgs)\n",
    "    \n",
    "#     print(tokens)\n",
    "    print(parenthesis_handler(tokens))\n",
    "#     print(errmsgs)\n",
    "    print(pass_)\n",
    "    print()\n",
    "    "
   ]
  },
  {
   "cell_type": "code",
   "execution_count": 139,
   "metadata": {},
   "outputs": [
    {
     "name": "stdout",
     "output_type": "stream",
     "text": [
      "alm3p31f   Chapter 3 Immunobiological aspects of vaccines in pregnancy: Maternal   6.0400\n",
      "94anrxyw   Chapter 47 Infections in Pregnancy                                      5.2435\n",
      "8p4t1dr6   Emergency Caesarean delivery in a patient with confirmed coronavirus    3.5063\n",
      "7xef0hdr   96 The Lungs in Obstetric and Gynecologic Diseases                      2.4528\n",
      "0vt8bxpn   Chapter 45 Gender Differences in Emerging Infectious Diseases           1.9134\n",
      "2qg9vuvd   Chapter 3 Blood Vital but Potentially Dangerous                         1.8781\n",
      "zp9k1k3z   Clinical and immunologic studies in identical twins discordant for sy   1.8248\n",
      "9olk4czm   Association of angiotensin-converting enzyme 2 gene A/G polymorphism    1.6936\n",
      "1jwsq044   3.07 Alkaloid Glycosidase Inhibitors                                    1.6499\n",
      "qw47pf9r   VII Digestive System 1                                                  1.5487\n",
      "bv7udg9k   Chapter 13 Transmission of Infectious Diseases Through Breast Milk an   1.4565\n",
      "gtcrwqgl   West Nile Virus: Epidemiology, Clinical Presentation, Diagnosis, and    1.3732\n",
      "lkyvok5t   Chapter 17 Transmission of infectious diseases through breast milk an   1.3288\n",
      "hxoyfh6o   Resolution of Acute Disseminated Encephalomyelitis Following Terminat   1.2351\n",
      "d6kgezt3   17 Approach to the Patient With Malaria                                 1.1438\n",
      "zk4exgpw   Anthropological Perspectives on the Health Transition                   1.0027\n",
      "8axyyj0y   Anthropological Perspectives on the Health Transition                   0.9393\n",
      "kzy33hdb   Multiple sclerosis                                                      0.8887\n",
      "dng8ardh   Multiple Sclerosis                                                      0.8849\n",
      "bw8b7zab   Chapter 27 Sphenisciformes, Gaviiformes, Podicipediformes, Procellari   0.8394\n",
      "12dzeebn   Rewards, risks, and responsibilities of globalization for the cardiot   0.8284\n",
      "8dfbds8f   Practice Point 34 Respiratory Tract Infection in a Traveler Returning   0.8263\n",
      "ez281q8s   Chapter 4 Nervous System                                                0.7933\n",
      "cwv1l03u   50th Anniversary Editorial: Building on firm foundations                0.7915\n",
      "zotfbuwu   Chapter Seven Microbiology and virology                                 0.7911\n",
      "mvpcn4h1   The pathogenesis and frequency of viral infections of man               0.7850\n",
      "qkysu5dv   23 Approach to the Diagnosis and Classification of Blood Cell Disorde   0.7607\n",
      "fx044gcd   Chapter 48 Demyelinating Disorders of the Central Nervous System        0.7466\n",
      "ul6g59zq   154 Antiviral Agents Against Respiratory Viruses                        0.7346\n",
      "6n8p0ij8   Enteric viruses in hospital-acquired infection                          0.7305\n",
      "404exjbx   The Missing Antibody: The Pitfalls of ANCA Testing                      0.7150\n",
      "zi43y331   Epigenetic transmission of feline infectious peritonitis                0.6854\n",
      "vq4ei1do   Physical Disease and Resilient Outcomes: A Systematic Review of Resil   0.6408\n",
      "cd7adns8   65 Haematological Diseases in the Tropics                               0.6381\n",
      "kxl8532p   Chapter 7 Infections and multiple sclerosis                             0.6316\n",
      "y7vsc6r7   2 Animals in Ophthalmic Research: Concepts and Methodologies            0.6239\n",
      "e13z7rm8   Chapter 7 HHV-6 and Multiple Sclerosis                                  0.6108\n",
      "pji5oste   Chapter 8 Determining the Reliability and Validity and Interpretation   0.6000\n",
      "vs5yondw   Acute bronchitis: Results of U.S. and European trials of antibiotic t   0.5988\n",
      "b5y4t0m8   Chapter 13 National Health Systems                                      0.5973\n",
      "1ets93yf   Influence of experimentally induced endogenous production of cortisol   0.5808\n",
      "m45198hs   CHAPTER 6 Transfusion Therapy                                           0.5635\n",
      "tgszveav   Dorsal root ganglia may be reservoirs of viral infection in multiple    0.5571\n",
      "v3lv2spe   Chapter 11 Infectious Diseases                                          0.5536\n",
      "gqekw0si   Chapter 14 Biosecurity Strategies for Backyard Poultry: A Controlled    0.5283\n",
      "kgjgchwr   Purification strategies for sendai virus membrane proteins              0.5168\n",
      "nkp80h8b   5 Molecular Microbiology                                                0.5026\n",
      "a3ycty8p   Chapter 53 Fever                                                        0.4959\n",
      "7xw8qeku   CHAPTER 4 The Peritoneum, Retroperitoneum, and Mesentery                0.4738\n",
      "jqs0ls1f   Society–Space                                                           0.4652\n",
      "2inmn7lb   Tudor-SN interacts with and co-localizes with G3BP in stress granules   0.4631\n",
      "pqr5keuu   Chapter 13 Ethical Issues in Public Health* * This case report is lar   0.4576\n",
      "ta9khr6z   Granulosa cell tumour of the adrenal                                    0.4473\n",
      "dl4ssv5f   Multiple Sclerosis                                                      0.4418\n",
      "qxya4cs3   Chapter 13 Biology and Diseases of Birds                                0.4415\n",
      "oo8q6898   Chapter 40 Infectious Demyelinating Diseases                            0.4334\n",
      "xeaqfxqj   Society–Space                                                           0.4328\n",
      "e71a5v36   Chapter 3 Measuring, Monitoring, and Evaluating the Health of a Popul   0.4316\n",
      "iwcync0o   Bronchial asthma in adults: Presentation to the emergency department    0.4257\n",
      "vr4qz0bm   67 Development of Gene-Based Vectors for Immunization                   0.4240\n",
      "w232rzi9   Chapter 132 Utilizing Blood Bank Resources/Transfusion Reactions and    0.4204\n",
      "o4sh6wqo   Effect of experimental Ornithobacterium rhinotracheale infection alon   0.4169\n",
      "m9h9s0o7   Chapter 15 Health Technology, Quality, Law, and Ethics                  0.3943\n",
      "6ogfukmd   Adult and pediatric pharyngitis: A review                               0.3897\n",
      "e6460oan   Biochemical and biophysical characterization of the reovirus cell att   0.3891\n",
      "oja9rqcn   36 Viral Febrile Illnesses and Emerging Pathogens                       0.3822\n",
      "7yse6kjd   Chapter 34 The Experimental Use of Syrian Hamsters                      0.3704\n",
      "qo98m7jx   14 Fever Without Localizing Signs                                       0.3682\n",
      "9qzxp56m   Chapter 8 Respiratory System                                            0.3676\n",
      "f1jzbtjj   Hepatitis-associated antigen                                            0.3558\n",
      "jxnd7r9u   Use of face masks in a primary care outpatient setting in Hong Kong:    0.3556\n",
      "49oti4zg   Chapter 22 Occupational Infectious Diseases                             0.3489\n",
      "cldrzet3   Chapter 5 Trends in Nonparenteral Delivery of Biologics, Vaccines and   0.3463\n",
      "4kkjlyky   142 Approach to the Patient with Diarrhea and Malabsorption             0.3422\n",
      "4h7qcyyu   Effect of purified immunoglobulins or pooled colostrum on performance   0.3407\n",
      "z22hq84i   10 Adenovirus Vaccines                                                  0.3394\n",
      "8ncm14a2   71 Recreational Infections                                              0.3364\n",
      "mc5q30w4   Chapter 7 Passerines and exotic softbills                               0.3349\n",
      "sdz6d1r5   Chapter 48 Pneumothorax and Barotrauma                                  0.3335\n",
      "8qtjr0a9   Chapter 31 Productive Cough (Acute Bronchitis)                          0.3297\n",
      "658lmb7d   Identification and characterisation of T-cell epitopes for incorporat   0.3287\n",
      "nux087gc   A review of the importance of cryptosporidiosis in farm animals         0.3278\n",
      "mjx4x3o3   66 Acute Bronchitis                                                     0.3251\n",
      "t6e7vr9y   The N-terminal heptad repeat region of reovirus cell attachment prote   0.3222\n",
      "r72jtoso   42 Gastrointestinal Complications of Secondary Immunodeficiency Syndr   0.3180\n",
      "dqa5vdw6   Abstracts of Papers Submitted to the American Gastroenterological Ass   0.3159\n",
      "8t3rptw0   Viral infections of the developing nervous system                       0.3084\n",
      "o5gqnwf6   Three-generation toxicity study of rats ingesting Brown HT in the die   0.3036\n",
      "e0jd3c0v   28 Other herbs and spices: mango ginger to wasabi                       0.2930\n",
      "1nom5hyk   1 Virology                                                              0.2892\n",
      "rhyrhh01   Randomized, double-masked, placebo-controlled clinical study of the e   0.2891\n",
      "rv5j1201   Chapter 13 Bone Marrow, Blood Cells, and the Lymphoid/Lymphatic Syste   0.2837\n",
      "xhem8l39   Chapter 8 Bismarck and the Long Road to Universal Health Coverage       0.2761\n",
      "ntikbuer   CHAPTER 15 Management and medicine of backyard poultry                  0.2753\n",
      "obupqcua   37 Leptospirosis                                                        0.2743\n",
      "3tgtstd4   Implementation of an educational program for nursing students amidst    0.2737\n",
      "jnfhe8s9   Chapter 27 Pertussis                                                    0.2726\n",
      "om31kvt7   Chapter 49 Lymphocytosis, Lymphocytopenia, Hypergammaglobulinemia, an   0.2706\n",
      "jw34swx1   House Building Industries Asia Pacific                                  0.2694\n",
      "z27h8pkd   2 Epstein–Barr Virus and Multiple Sclerosis Wrong Place, Wrong Time?    0.2654\n"
     ]
    }
   ],
   "source": [
    "query = 'retarded (white AND (woman NOT man))'\n",
    "\n",
    "docs, scores = rdp.search(query)\n",
    "n = 100\n",
    "for doc, score in zip(docs[:n], scores[:n]):\n",
    "    print(f'{doc.uid}   {str(doc.title)[:69]:<69}   {score:.4f}')"
   ]
  },
  {
   "cell_type": "code",
   "execution_count": 95,
   "metadata": {},
   "outputs": [
    {
     "name": "stdout",
     "output_type": "stream",
     "text": [
      "Cardinality 1: 57\n",
      "Cardinality 2: 3\n",
      "Equal?: False\n"
     ]
    }
   ],
   "source": [
    "print(f'Cardinality 1: {len(docs1)}')\n",
    "print(f'Cardinality 2: {len(docs2)}')\n",
    "\n",
    "docs1_list = sorted(docs1, key=lambda x: x.uid)\n",
    "docs2_list = sorted(docs2, key=lambda x: x.uid)\n",
    "\n",
    "# Set equal gave unexpceted results\n",
    "print(f'Equal?: {all([d1 == d2 for d1, d2 in zip(docs1_list, docs2_list)])}')"
   ]
  },
  {
   "cell_type": "code",
   "execution_count": 96,
   "metadata": {},
   "outputs": [
    {
     "name": "stdout",
     "output_type": "stream",
     "text": [
      "dumping i94lyfsh\n"
     ]
    }
   ],
   "source": [
    "with open('textfile.txt', 'w+') as f:\n",
    "#     uid = docs2_list[0].uid\n",
    "#     uid = 'dlh93ax6'\n",
    "#     uid = 'zp9k1k3z'\n",
    "#     uid = 'vs5yondw'\n",
    "    uid = 'i94lyfsh'\n",
    "    \n",
    "    print(f'dumping {uid}')\n",
    "    f.write(df[df.cord_uid == uid].body_text.values[0].lower())"
   ]
  },
  {
   "cell_type": "code",
   "execution_count": null,
   "metadata": {},
   "outputs": [],
   "source": [
    "docs, scores = index.search('retarded white woman', verbose=True)\n",
    "# docs, scores = index.search('!', verbose=True)\n",
    "n = 16\n",
    "print()\n",
    "for doc, score in zip(docs[:n], scores[:n]):\n",
    "    print(f'{doc.uid}   {str(doc.title)[:69]:<69}   {score:.4f}')"
   ]
  },
  {
   "cell_type": "code",
   "execution_count": null,
   "metadata": {},
   "outputs": [],
   "source": [
    "raise ValueError"
   ]
  },
  {
   "cell_type": "code",
   "execution_count": null,
   "metadata": {},
   "outputs": [],
   "source": [
    "import coordle_backend\n",
    "reload(coordle_backend)\n",
    "from coordle_backend import SentVectorDoc, Index, AI_Index\n",
    "\n",
    "def most_similar(token):\n",
    "    if token in model.wv:\n",
    "        return model.wv.most_similar(token)\n",
    "    return []\n",
    "\n",
    "def test_AI_Index(model):\n",
    "    coordle = AI_Index(most_similar, 3)\n",
    "    coordle.build_from_df(\n",
    "        df.iloc[:1024],\n",
    "        'cord_uid',\n",
    "        'title',\n",
    "        'body_text',\n",
    "        use_multiprocessing=True,\n",
    "        workers=-1,\n",
    "        verbose=True\n",
    "    )\n",
    "    return coordle\n",
    "\n",
    "ai_index = test_AI_Index(model)\n",
    "            "
   ]
  },
  {
   "cell_type": "code",
   "execution_count": null,
   "metadata": {},
   "outputs": [],
   "source": [
    "docs, scores = ai_index.search('retarded white woman', verbose=True)\n",
    "n = 16\n",
    "print()\n",
    "for doc, score in zip(docs[:n], scores[:n]):\n",
    "    print(f'{doc.uid}   {doc.title[:80]:<80}   {score:.4f}')"
   ]
  },
  {
   "cell_type": "markdown",
   "metadata": {},
   "source": [
    "## Multiprocessing showdown"
   ]
  },
  {
   "cell_type": "code",
   "execution_count": null,
   "metadata": {},
   "outputs": [],
   "source": [
    "from multiprocessing import Pool\n",
    "from time import time"
   ]
  },
  {
   "cell_type": "code",
   "execution_count": null,
   "metadata": {},
   "outputs": [],
   "source": [
    "t0 = time()\n",
    "with Pool(None) as p:\n",
    "    cleaned_texts = list(tqdm(p.imap(clean_text, df.body_text), position=0, total=len(df)))\n",
    "print(f'Text cleaning with multiprocessing took {time()-t0:.2f} seconds')"
   ]
  },
  {
   "cell_type": "code",
   "execution_count": null,
   "metadata": {},
   "outputs": [],
   "source": [
    "t0 = time()\n",
    "gen = tqdm((clean_text(text) for text in df.body_text), position=0, total=len(df))\n",
    "cleaned_texts = list(gen)\n",
    "print(f'Naïve text cleaning took {time()-t0:.2f} seconds')"
   ]
  },
  {
   "cell_type": "code",
   "execution_count": null,
   "metadata": {},
   "outputs": [],
   "source": [
    "t0 = time()\n",
    "with Pool(None) as p:\n",
    "    cleaned_texts = list(tqdm(p.imap(clean_text, df.body_text[:2048]), position=0, total=2048))\n",
    "print(f'Text cleaning with multiprocessing took {time()-t0:.2f} seconds')"
   ]
  },
  {
   "cell_type": "code",
   "execution_count": null,
   "metadata": {},
   "outputs": [],
   "source": [
    "t0 = time()\n",
    "gen = tqdm((clean_text(text) for text in df.body_text[:2048]), position=0, total=2048)\n",
    "cleaned_texts = list(gen)\n",
    "print(f'Naïve text cleaning took {time()-t0:.2f} seconds')"
   ]
  }
 ],
 "metadata": {
  "kernelspec": {
   "display_name": "Python 3",
   "language": "python",
   "name": "python3"
  },
  "language_info": {
   "codemirror_mode": {
    "name": "ipython",
    "version": 3
   },
   "file_extension": ".py",
   "mimetype": "text/x-python",
   "name": "python",
   "nbconvert_exporter": "python",
   "pygments_lexer": "ipython3",
   "version": "3.7.4"
  }
 },
 "nbformat": 4,
 "nbformat_minor": 2
}
