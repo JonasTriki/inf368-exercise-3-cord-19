{
 "cells": [
  {
   "cell_type": "code",
   "execution_count": 1,
   "metadata": {},
   "outputs": [],
   "source": [
    "# Common imports\n",
    "import numpy as np \n",
    "seed=42069\n",
    "np.random.seed(42069)\n",
    "import os \n",
    "import datetime\n",
    "import pandas as pd \n",
    "from functools import reduce\n",
    "from pprint import pprint\n",
    "import sys\n",
    "\n",
    "# Custom imports\n",
    "import tensorflow_setup\n",
    "\n",
    "# ML imports\n",
    "from tensorflow.keras import Sequential\n",
    "from tensorflow.keras.layers import Embedding, Dropout, LSTM, Dense\n",
    "from tensorflow.keras.utils import plot_model, to_categorical\n",
    "from tensorflow.keras.losses import sparse_categorical_crossentropy\n",
    "from tensorflow.keras.optimizers import Adam\n",
    "from tensorflow.keras.callbacks import EarlyStopping"
   ]
  },
  {
   "cell_type": "code",
   "execution_count": 2,
   "metadata": {},
   "outputs": [
    {
     "name": "stdout",
     "output_type": "stream",
     "text": [
      "Enabled dynamic gpu memory\n",
      "Ran tensorflow_shutup\n"
     ]
    }
   ],
   "source": [
    "tensorflow_setup.init(shutup=True)"
   ]
  },
  {
   "cell_type": "code",
   "execution_count": 3,
   "metadata": {},
   "outputs": [],
   "source": [
    "df = pd.read_csv('data/cord-19-data.csv')"
   ]
  },
  {
   "cell_type": "code",
   "execution_count": 4,
   "metadata": {},
   "outputs": [
    {
     "data": {
      "text/plain": [
       "Index(['cord_uid', 'paper_id', 'source', 'is_pmc', 'title', 'body_text', 'doi',\n",
       "       'pubmed_id', 'license', 'abstract', 'publish_time', 'authors',\n",
       "       'journal', 'url', 'language'],\n",
       "      dtype='object')"
      ]
     },
     "execution_count": 4,
     "metadata": {},
     "output_type": "execute_result"
    }
   ],
   "source": [
    "df.columns"
   ]
  },
  {
   "cell_type": "code",
   "execution_count": 5,
   "metadata": {},
   "outputs": [
    {
     "name": "stdout",
     "output_type": "stream",
     "text": [
      "32005    Infectious diseases have caused and will conti...\n",
      "25733    Respiratory tract diseases (RTDs) are a leadin...\n",
      "Name: body_text, dtype: object\n"
     ]
    }
   ],
   "source": [
    "n = 2\n",
    "# Sample n texts from dataframe\n",
    "texts = df.body_text.sample(n=n, random_state=seed)\n",
    "# Concatenate sampled texts\n",
    "print(texts)\n",
    "text = reduce(str.__add__, texts)"
   ]
  },
  {
   "cell_type": "code",
   "execution_count": 6,
   "metadata": {},
   "outputs": [],
   "source": [
    "vocab = sorted(set(text))\n",
    "char_to_int = {c:i for i, c in enumerate(vocab)}\n",
    "int_to_char = np.array(vocab) "
   ]
  },
  {
   "cell_type": "code",
   "execution_count": 7,
   "metadata": {},
   "outputs": [
    {
     "name": "stdout",
     "output_type": "stream",
     "text": [
      "Vocab size 83\n",
      "Text size 26865\n"
     ]
    }
   ],
   "source": [
    "print(f'Vocab size {len(vocab)}')\n",
    "print(f'Text size {len(text)}')"
   ]
  },
  {
   "cell_type": "code",
   "execution_count": 8,
   "metadata": {},
   "outputs": [],
   "source": [
    "# X is the text represented as integers, dictionary is char_int\n",
    "X = np.array([char_to_int[c] for c in text], dtype=np.int8)\n",
    "X_train, X_val = np.array_split(X, 2) "
   ]
  },
  {
   "cell_type": "code",
   "execution_count": 9,
   "metadata": {},
   "outputs": [],
   "source": [
    "batch_size = 128\n",
    "X_train = X_train[:len(X_train)//128*128]"
   ]
  },
  {
   "cell_type": "code",
   "execution_count": 10,
   "metadata": {},
   "outputs": [],
   "source": [
    "# prepare the dataset of input to output pairs encoded as integers\n",
    "n_chars = len(text)\n",
    "seq_length = 64\n",
    "dataX = []\n",
    "dataY = []\n",
    "for i in range(n_chars - seq_length):\n",
    "    seq_in = text[i:i + seq_length]\n",
    "    seq_out = text[i + seq_length]\n",
    "    dataX.append([char_to_int[char] for char in seq_in])\n",
    "    dataY.append(char_to_int[seq_out])\n",
    "n_patterns = len(dataX)"
   ]
  },
  {
   "cell_type": "code",
   "execution_count": 11,
   "metadata": {},
   "outputs": [],
   "source": [
    "X = np.reshape(dataX, (n_patterns, seq_length, 1))\n",
    "# normalize\n",
    "X = X/len(vocab)\n",
    "# one hot encode the output variable\n",
    "y = to_categorical(dataY)"
   ]
  },
  {
   "cell_type": "code",
   "execution_count": 12,
   "metadata": {},
   "outputs": [
    {
     "name": "stdout",
     "output_type": "stream",
     "text": [
      "(26801, 64, 1)\n"
     ]
    }
   ],
   "source": [
    "print(X.shape)"
   ]
  },
  {
   "cell_type": "code",
   "execution_count": 13,
   "metadata": {},
   "outputs": [],
   "source": [
    "# def build_model(vocab_size, embedding_dim, rnn_units, batch_size):\n",
    "#     model = Sequential([\n",
    "#          Embedding(vocab_size, embedding_dim, batch_input_shape=[batch_size, None]),\n",
    "#          Dropout(0.2),\n",
    "#          LSTM(rnn_units, return_sequences=True, stateful=True, recurrent_initializer='glorot_uniform'),\n",
    "#          Dropout(0.2), \n",
    "#          LSTM(rnn_units,\n",
    "#          return_sequences=True,\n",
    "#          stateful=True,\n",
    "#          recurrent_initializer='glorot_uniform'),\n",
    "#          Dropout(0.2),\n",
    "#          Dense(vocab_size)\n",
    "#      ])\n",
    " \n",
    "#     return model\n",
    "# model = build_model(vocab_size=len(vocab), embedding_dim=69, rnn_units=10, batch_size=64)\n",
    "\n",
    "def build_model(input_shape, output_shape):\n",
    "    model = Sequential([\n",
    "        LSTM(256, input_shape=input_shape, return_sequences=True),\n",
    "        Dropout(0.1),\n",
    "        LSTM(256),\n",
    "#         Dropout(0.2),\n",
    "        Dense(output_shape, activation='softmax')\n",
    "    ])\n",
    "    return model\n",
    "model = build_model(X.shape[1:], y.shape[1])"
   ]
  },
  {
   "cell_type": "code",
   "execution_count": 14,
   "metadata": {},
   "outputs": [
    {
     "name": "stdout",
     "output_type": "stream",
     "text": [
      "Model: \"sequential\"\n",
      "_________________________________________________________________\n",
      "Layer (type)                 Output Shape              Param #   \n",
      "=================================================================\n",
      "lstm (LSTM)                  (None, 64, 256)           264192    \n",
      "_________________________________________________________________\n",
      "dropout (Dropout)            (None, 64, 256)           0         \n",
      "_________________________________________________________________\n",
      "lstm_1 (LSTM)                (None, 256)               525312    \n",
      "_________________________________________________________________\n",
      "dense (Dense)                (None, 83)                21331     \n",
      "=================================================================\n",
      "Total params: 810,835\n",
      "Trainable params: 810,835\n",
      "Non-trainable params: 0\n",
      "_________________________________________________________________\n"
     ]
    }
   ],
   "source": [
    "model.summary()"
   ]
  },
  {
   "cell_type": "code",
   "execution_count": 15,
   "metadata": {},
   "outputs": [],
   "source": [
    "model.compile(optimizer='adam', loss='categorical_crossentropy')"
   ]
  },
  {
   "cell_type": "code",
   "execution_count": 19,
   "metadata": {
    "scrolled": true
   },
   "outputs": [
    {
     "name": "stdout",
     "output_type": "stream",
     "text": [
      "Train on 26801 samples\n",
      "Epoch 1/69\n",
      "26801/26801 [==============================] - 3s 114us/sample - loss: 0.4764\n",
      "Epoch 2/69\n",
      "26801/26801 [==============================] - 3s 110us/sample - loss: 0.4484\n",
      "Epoch 3/69\n",
      "26801/26801 [==============================] - 3s 113us/sample - loss: 0.4321\n",
      "Epoch 4/69\n",
      "26801/26801 [==============================] - 3s 112us/sample - loss: 0.3964\n",
      "Epoch 5/69\n",
      "26801/26801 [==============================] - 3s 112us/sample - loss: 0.3788\n",
      "Epoch 6/69\n",
      "26801/26801 [==============================] - 3s 112us/sample - loss: 0.3585\n",
      "Epoch 7/69\n",
      "26801/26801 [==============================] - 3s 111us/sample - loss: 0.3359\n",
      "Epoch 8/69\n",
      "26801/26801 [==============================] - 3s 112us/sample - loss: 0.3186\n",
      "Epoch 9/69\n",
      "26801/26801 [==============================] - 3s 112us/sample - loss: 0.3019\n",
      "Epoch 10/69\n",
      "26801/26801 [==============================] - 3s 112us/sample - loss: 0.2854\n",
      "Epoch 11/69\n",
      "26801/26801 [==============================] - 3s 112us/sample - loss: 0.2631\n",
      "Epoch 12/69\n",
      "26801/26801 [==============================] - 3s 110us/sample - loss: 0.2605\n",
      "Epoch 13/69\n",
      "26801/26801 [==============================] - 3s 113us/sample - loss: 0.2458\n",
      "Epoch 14/69\n",
      "26801/26801 [==============================] - 3s 112us/sample - loss: 0.2278\n",
      "Epoch 15/69\n",
      "26801/26801 [==============================] - 3s 113us/sample - loss: 0.2240\n",
      "Epoch 16/69\n",
      "26801/26801 [==============================] - 3s 113us/sample - loss: 0.2128\n",
      "Epoch 17/69\n",
      "26801/26801 [==============================] - 3s 110us/sample - loss: 0.2238\n",
      "Epoch 18/69\n",
      "26801/26801 [==============================] - 3s 112us/sample - loss: 0.1850\n",
      "Epoch 19/69\n",
      "26801/26801 [==============================] - 3s 113us/sample - loss: 0.1792\n",
      "Epoch 20/69\n",
      "26801/26801 [==============================] - 3s 113us/sample - loss: 0.1808\n",
      "Epoch 21/69\n",
      "26801/26801 [==============================] - 3s 113us/sample - loss: 0.1578\n",
      "Epoch 22/69\n",
      "26801/26801 [==============================] - 3s 111us/sample - loss: 0.1466\n",
      "Epoch 23/69\n",
      "26801/26801 [==============================] - 3s 112us/sample - loss: 0.1685\n",
      "Epoch 24/69\n",
      "26801/26801 [==============================] - 3s 112us/sample - loss: 0.1559\n",
      "Epoch 25/69\n",
      "26801/26801 [==============================] - 3s 112us/sample - loss: 0.1370\n",
      "Epoch 26/69\n",
      "26801/26801 [==============================] - 3s 113us/sample - loss: 0.1263\n",
      "Epoch 27/69\n",
      "26801/26801 [==============================] - 3s 110us/sample - loss: 0.1298\n",
      "Epoch 28/69\n",
      "26801/26801 [==============================] - 3s 112us/sample - loss: 0.1265\n",
      "Epoch 29/69\n",
      "26801/26801 [==============================] - 3s 112us/sample - loss: 0.1197\n",
      "Epoch 30/69\n",
      "26801/26801 [==============================] - 3s 112us/sample - loss: 0.1130\n",
      "Epoch 31/69\n",
      "26801/26801 [==============================] - 3s 110us/sample - loss: 0.1091\n",
      "Epoch 32/69\n",
      "26801/26801 [==============================] - 3s 113us/sample - loss: 0.1486\n",
      "Epoch 33/69\n",
      "26801/26801 [==============================] - 3s 112us/sample - loss: 0.1161\n",
      "Epoch 34/69\n",
      "26801/26801 [==============================] - 3s 113us/sample - loss: 0.1137\n",
      "Epoch 35/69\n",
      "26801/26801 [==============================] - 3s 112us/sample - loss: 0.1147\n",
      "Epoch 36/69\n",
      "26801/26801 [==============================] - 3s 110us/sample - loss: 0.0931\n",
      "Epoch 37/69\n",
      "26801/26801 [==============================] - 3s 112us/sample - loss: 0.0840\n",
      "Epoch 38/69\n",
      "26801/26801 [==============================] - 3s 113us/sample - loss: 0.0767\n",
      "Epoch 39/69\n",
      "26801/26801 [==============================] - 3s 112us/sample - loss: 0.0919\n",
      "Epoch 40/69\n",
      "26801/26801 [==============================] - 3s 112us/sample - loss: 0.1328\n",
      "Epoch 41/69\n",
      "26801/26801 [==============================] - 3s 110us/sample - loss: 0.0927\n",
      "Epoch 42/69\n",
      "26801/26801 [==============================] - 3s 112us/sample - loss: 0.0808\n",
      "Epoch 43/69\n",
      "26801/26801 [==============================] - 3s 112us/sample - loss: 0.0775\n",
      "Epoch 44/69\n",
      "26801/26801 [==============================] - 3s 112us/sample - loss: 0.0878\n",
      "Epoch 45/69\n",
      "26801/26801 [==============================] - 3s 114us/sample - loss: 0.0946\n",
      "Epoch 46/69\n",
      "26801/26801 [==============================] - 3s 114us/sample - loss: 0.0766\n",
      "Epoch 47/69\n",
      "26801/26801 [==============================] - 3s 116us/sample - loss: 0.0745\n",
      "Epoch 48/69\n",
      "26801/26801 [==============================] - 3s 114us/sample - loss: 0.0734\n",
      "Epoch 49/69\n",
      "26801/26801 [==============================] - 3s 112us/sample - loss: 0.0890\n",
      "Epoch 50/69\n",
      "26801/26801 [==============================] - 3s 112us/sample - loss: 0.0933\n",
      "Epoch 51/69\n",
      "26801/26801 [==============================] - 3s 111us/sample - loss: 0.0721\n",
      "Epoch 52/69\n",
      "26801/26801 [==============================] - 3s 113us/sample - loss: 0.0665\n",
      "Epoch 53/69\n",
      "26801/26801 [==============================] - 3s 113us/sample - loss: 0.0564\n",
      "Epoch 54/69\n",
      "26801/26801 [==============================] - 3s 112us/sample - loss: 0.0562\n",
      "Epoch 55/69\n",
      "26801/26801 [==============================] - 3s 113us/sample - loss: 0.0790\n",
      "Epoch 56/69\n",
      "26801/26801 [==============================] - 3s 111us/sample - loss: 0.1091\n",
      "Epoch 57/69\n",
      "26801/26801 [==============================] - 3s 112us/sample - loss: 0.0696\n",
      "Epoch 58/69\n",
      "26801/26801 [==============================] - 3s 112us/sample - loss: 0.0779\n",
      "Epoch 59/69\n",
      "26801/26801 [==============================] - 3s 112us/sample - loss: 0.0619\n",
      "Epoch 60/69\n",
      "26801/26801 [==============================] - 3s 113us/sample - loss: 0.0568\n",
      "Epoch 61/69\n",
      "26801/26801 [==============================] - 3s 111us/sample - loss: 0.0528\n",
      "Epoch 62/69\n",
      "26801/26801 [==============================] - 3s 112us/sample - loss: 0.0489\n",
      "Epoch 63/69\n",
      "26801/26801 [==============================] - 3s 112us/sample - loss: 0.0461\n",
      "Epoch 64/69\n",
      "26801/26801 [==============================] - 3s 112us/sample - loss: 0.0622\n",
      "Epoch 65/69\n",
      "26801/26801 [==============================] - 3s 110us/sample - loss: 0.1627\n",
      "Epoch 66/69\n",
      "26801/26801 [==============================] - 3s 112us/sample - loss: 0.1040\n",
      "Epoch 67/69\n",
      "26801/26801 [==============================] - 3s 113us/sample - loss: 0.0524\n",
      "Epoch 68/69\n",
      "26801/26801 [==============================] - 3s 112us/sample - loss: 0.0346\n",
      "Epoch 69/69\n",
      "26801/26801 [==============================] - 3s 112us/sample - loss: 0.0318\n"
     ]
    },
    {
     "data": {
      "text/plain": [
       "<tensorflow.python.keras.callbacks.History at 0x7f6e64149dd0>"
      ]
     },
     "execution_count": 19,
     "metadata": {},
     "output_type": "execute_result"
    }
   ],
   "source": [
    "model.fit(X, y, epochs=69, batch_size=batch_size)"
   ]
  },
  {
   "cell_type": "code",
   "execution_count": 20,
   "metadata": {},
   "outputs": [
    {
     "name": "stdout",
     "output_type": "stream",
     "text": [
      "                                                     Cat and dog\n"
     ]
    }
   ],
   "source": [
    "print(f\"{'Cat and dog':>64s}\")"
   ]
  },
  {
   "cell_type": "code",
   "execution_count": 23,
   "metadata": {},
   "outputs": [
    {
     "name": "stdout",
     "output_type": "stream",
     "text": [
      "                                    Oh my goodness Corona Corona\n",
      "cted eroation barrien, and a significant decrease in transepithelial electrical resistance) [20, 21]. Furthermore, serological diagnosis of HBoV has recently confirmed significant increases in IgG antibodies in children with pneumonia. These results support the idea that it is a true pathogen in RTI in children [22, 23]. Prolonged viral shedding has been described, about 2.5 months in outpatients and about 4.5 months to 1 year in hospitalized children, which probably explains why HBoV is detected in asymptomatic cases. This prolonged shedding may also explain why the rate of coinfection with other viruses is so high, ranging from 75% to 85% [24].\n",
      "In this study, we retrospectively analyzed data for 1352 nasopharyngeal samples (NPSs, aspirates and swabs) that were molecularly tested for the presence of HBoV DNA. Our aim was to determine the prevalence of HBoV in children up to 16 years of age who presented at the hospital with RTD and to describe the clinical features of the infected chi\n",
      "Done.\n"
     ]
    }
   ],
   "source": [
    "pattern = f\"{'Oh my goodness Corona Corona':>64s}\"\n",
    "print(pattern)\n",
    "pattern = [char_to_int[c] for c in pattern]\n",
    "# generate characters\n",
    "for i in range(1000):\n",
    "    x = np.reshape(pattern, (1, len(pattern), 1))\n",
    "    x = x / float(len(vocab))\n",
    "    prediction = model.predict(x, verbose=0)\n",
    "    index = np.argmax(prediction)\n",
    "    result = int_to_char[index]\n",
    "    seq_in = [int_to_char[value] for value in pattern]\n",
    "    sys.stdout.write(result)\n",
    "    pattern.append(index)\n",
    "    pattern = pattern[1:len(pattern)]\n",
    "print(\"\\nDone.\")"
   ]
  },
  {
   "cell_type": "code",
   "execution_count": null,
   "metadata": {},
   "outputs": [],
   "source": [
    "text[64:1064]"
   ]
  }
 ],
 "metadata": {
  "kernelspec": {
   "display_name": "Python 3",
   "language": "python",
   "name": "python3"
  },
  "language_info": {
   "codemirror_mode": {
    "name": "ipython",
    "version": 3
   },
   "file_extension": ".py",
   "mimetype": "text/x-python",
   "name": "python",
   "nbconvert_exporter": "python",
   "pygments_lexer": "ipython3",
   "version": "3.7.4"
  }
 },
 "nbformat": 4,
 "nbformat_minor": 2
}
